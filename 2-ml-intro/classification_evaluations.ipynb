{
 "cells": [
  {
   "cell_type": "code",
   "execution_count": 1,
   "metadata": {},
   "outputs": [
    {
     "name": "stdout",
     "output_type": "stream",
     "text": [
      "2024年 6月24日 月曜日 14時51分16秒 JST\n",
      "Python 3.9.6\n"
     ]
    }
   ],
   "source": [
    "!date\n",
    "!python --version"
   ]
  },
  {
   "cell_type": "markdown",
   "metadata": {},
   "source": [
    "# classification_report, ConfusionMatrixDisplayの実行例\n",
    "分類タスクにおける代表的な評価を出力するコード例。\n",
    "\n",
    "基本的には (1) 教師ラベルのリスト、(2) 予測結果のリスト、(3) 表示用ラベルの3点を用意してから以下の関数を利用するだけで良い。本ノートブックでは教師ラベルのリストを y_true、予測結果のリストを y_predicted、表示用ラベルを labels として用意し、出力した例を示す。\n",
    "\n",
    "- 参考\n",
    "    - [classification_report](https://scikit-learn.org/stable/modules/generated/sklearn.metrics.classification_report.html)\n",
    "    - [ConfusionMatrixDisplay](https://scikit-learn.org/stable/modules/generated/sklearn.metrics.ConfusionMatrixDisplay.html)）"
   ]
  },
  {
   "cell_type": "code",
   "execution_count": 2,
   "metadata": {},
   "outputs": [],
   "source": [
    "from sklearn.metrics import classification_report, confusion_matrix, ConfusionMatrixDisplay\n"
   ]
  },
  {
   "cell_type": "markdown",
   "metadata": {},
   "source": [
    "## データの用意"
   ]
  },
  {
   "cell_type": "code",
   "execution_count": 3,
   "metadata": {},
   "outputs": [
    {
     "data": {
      "text/plain": [
       "['negative', 'normal', 'positive']"
      ]
     },
     "execution_count": 3,
     "metadata": {},
     "output_type": "execute_result"
    }
   ],
   "source": [
    "# 教師ラベルと推測ラベルを用意\n",
    "y_true = [\"negative\", \"positive\", \"positive\", \"normal\"]\n",
    "y_predicted = [\"negative\", \"positive\", \"negative\", \"negative\"] # 3,4番目が推定誤り\n",
    "\n",
    "# ラベル名一覧を用意\n",
    "# classification_report, confusion_matrixではラベル名がソート順で出力されるのでソートすると良い\n",
    "labels = [\"positive\", \"normal\", \"negative\"]\n",
    "sorted(labels)"
   ]
  },
  {
   "cell_type": "markdown",
   "metadata": {},
   "source": [
    "## classification_report\n",
    "ラベル毎の precision, recall, f1-score, support を出力し、それに基づく総合評価もまとめて出力してくれる。\n",
    "\n",
    "- precision（適合率）：正と予測した結果がどれだけ正しかったか。\n",
    "- recall（再現率）：実際に正であったサンプルのうち、モデルが正と予測したサンプルの割合。\n",
    "- F1-score（F1スコア）：適合率と再現率の調和平均。\n",
    "- accuracy（正解率）：全てのサンプルのうち、正しく分類されたサンプルの割合。\n",
    "- macro avg：サンプル数に基づいたスコア（単純平均）。\n",
    "    - 例示した実行結果の場合、次のように求める。\n",
    "    - precision: (1.00 + 0.00 + 0.33) / 3 = 0.44\n",
    "    - recall: (0.50 + 0.00 + 1.00) / 3 = 0.50\n",
    "    - f1-score: (0.67 + 0.00 + 0.50) / 3 = 0.39\n",
    "- weighted avg：サンプル数に基づき重み調整したスコア。サンプル数の多いクラスのスコアをより重視する。\n",
    "    - 例示した実行結果の場合、次のように求める。\n",
    "    - precision: (1.00*2 + 0.00*1 + 0.33*1) / (2+1+1) = 0.58\n",
    "    - recall: (0.50*2 + 0.00*1 + 1.00*1) / (2+1+1) = 0.50\n",
    "    - f1-score: (0.67*2 + 0.00*1 + 0.50*1) / (2+1+1) = 0.46\n",
    "    - サンプル数が多いクラス（positive）のスコアが相対的に高いため、総合評価も良くなっている。\n"
   ]
  },
  {
   "cell_type": "code",
   "execution_count": 4,
   "metadata": {},
   "outputs": [
    {
     "name": "stdout",
     "output_type": "stream",
     "text": [
      "Classification Report:\n",
      "              precision    recall  f1-score   support\n",
      "\n",
      "    positive       1.00      0.50      0.67         2\n",
      "      normal       0.00      0.00      0.00         1\n",
      "    negative       0.33      1.00      0.50         1\n",
      "\n",
      "    accuracy                           0.50         4\n",
      "   macro avg       0.44      0.50      0.39         4\n",
      "weighted avg       0.58      0.50      0.46         4\n",
      "\n"
     ]
    },
    {
     "name": "stderr",
     "output_type": "stream",
     "text": [
      "/Users/tnal/.venv/dm/lib/python3.9/site-packages/sklearn/metrics/_classification.py:1344: UndefinedMetricWarning: Precision and F-score are ill-defined and being set to 0.0 in labels with no predicted samples. Use `zero_division` parameter to control this behavior.\n",
      "  _warn_prf(average, modifier, msg_start, len(result))\n",
      "/Users/tnal/.venv/dm/lib/python3.9/site-packages/sklearn/metrics/_classification.py:1344: UndefinedMetricWarning: Precision and F-score are ill-defined and being set to 0.0 in labels with no predicted samples. Use `zero_division` parameter to control this behavior.\n",
      "  _warn_prf(average, modifier, msg_start, len(result))\n",
      "/Users/tnal/.venv/dm/lib/python3.9/site-packages/sklearn/metrics/_classification.py:1344: UndefinedMetricWarning: Precision and F-score are ill-defined and being set to 0.0 in labels with no predicted samples. Use `zero_division` parameter to control this behavior.\n",
      "  _warn_prf(average, modifier, msg_start, len(result))\n"
     ]
    }
   ],
   "source": [
    "# classification_report出力\n",
    "# 教師ラベル、推測ラベル、表示用ラベルを与えて実行。\n",
    "report = classification_report(y_true, y_predicted, labels=labels)\n",
    "print(\"Classification Report:\")\n",
    "print(report)"
   ]
  },
  {
   "cell_type": "markdown",
   "metadata": {},
   "source": [
    "## ConfusionMatrixDisplay\n",
    "各ラベルに該当するサンプルをどのように推定したのかを確認する混合行列を出力する。\n",
    "- 行の「True label」が教師データ。列の「Predicted label」が予測結果。\n",
    "    - 例えば左上の1は、「教師ラベルpositiveとなるサンプル1つをpositiveと予測した（正解した）」ことを意味する。対角成分は正解したサンプル数を示すことになる。\n",
    "    - 真ん中の行は「教師ラベルnormalとなるサンプル1つをpositiveと予測した」ことを意味している。\n",
    "    - 下の行は「教師ラベルnegativeとなるサンプルは2つあり（行方向の総和=2）、一つはpositiveと推測、もう一つはnegativeと推測した」ことを意味している。"
   ]
  },
  {
   "cell_type": "code",
   "execution_count": 5,
   "metadata": {},
   "outputs": [
    {
     "data": {
      "text/plain": [
       "<sklearn.metrics._plot.confusion_matrix.ConfusionMatrixDisplay at 0x122c418e0>"
      ]
     },
     "execution_count": 5,
     "metadata": {},
     "output_type": "execute_result"
    },
    {
     "data": {
      "image/png": "[encoded data removed]",
      "text/plain": [
       "<Figure size 640x480 with 2 Axes>"
      ]
     },
     "metadata": {},
     "output_type": "display_data"
    }
   ],
   "source": [
    "# ConfusionMatrixDisplay出力\n",
    "# 事前に近藤行列を作成。出力時に近藤行列と表示用ラベルを与えて実行。\n",
    "cm = confusion_matrix(y_true, y_predicted)\n",
    "disp = ConfusionMatrixDisplay(confusion_matrix=cm, display_labels=labels)\n",
    "disp.plot()\n"
   ]
  }
 ],
 "metadata": {
  "kernelspec": {
   "display_name": "dm",
   "language": "python",
   "name": "python3"
  },
  "language_info": {
   "codemirror_mode": {
    "name": "ipython",
    "version": 3
   },
   "file_extension": ".py",
   "mimetype": "text/x-python",
   "name": "python",
   "nbconvert_exporter": "python",
   "pygments_lexer": "ipython3",
   "version": "3.9.6"
  }
 },
 "nbformat": 4,
 "nbformat_minor": 2
}
