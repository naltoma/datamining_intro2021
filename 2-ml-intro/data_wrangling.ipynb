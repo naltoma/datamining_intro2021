{
  "nbformat": 4,
  "nbformat_minor": 0,
  "metadata": {
    "colab": {
      "name": "data-wrangling.ipynb",
      "provenance": [],
      "toc_visible": true
    },
    "kernelspec": {
      "name": "python3",
      "display_name": "Python 3"
    }
  },
  "cells": [
    {
      "cell_type": "markdown",
      "metadata": {
        "id": "sxc9s6eS1fPE"
      },
      "source": [
        "# 映画レビューデータを通したデータ処理演習\n",
        "参考サイト: [Collaborative Filtering for Movie Recommendations](https://keras.io/examples/structured_data/collaborative_filtering_movielens/)\n",
        "\n"
      ]
    },
    {
      "cell_type": "markdown",
      "metadata": {
        "id": "wFa1Hx9f2Z-_"
      },
      "source": [
        "## ゴール\n",
        "CSV/TSV等のテキストファイルで用意された生のデータの読み込み方、そこから必要な項目を抽出するようなデータ処理、平均値・分散値を算出したりといった一般的な統計処理、グラフや分布図等の描画方法について学んでみましょう。\n",
        "\n",
        "なお、[MovieLens](http://files.grouplens.org/datasets/movielens/ml-latest-small-README.html)と呼ばれる映画レビューデータセットを元に、似ているユーザを探し出し、そのユーザが高評価を付けているまだ視聴していない映画を抽出する映画推薦の例も示します。重要なのは個々のコードを覚えることではなく、必要なことを自身で検索して探し出し、参考にして実装できるようになることです。\n",
        "\n",
        "例えば ``pandas cheat sheet`` ぐらいでググると[Pandas Cheat Sheet for Data Science in Python](https://www.datacamp.com/community/blog/python-pandas-cheat-sheet)が見つかります。[pandas 列抽出](https://www.google.com/search?client=safari&sxsrf=ALeKk028LUPdRcMxKct-InRUlXvrhXEgWw%3A1615257233990&source=hp&ei=kd5GYNueOvmSr7wP3_WNmAs&iflsig=AINFCbYAAAAAYEbsoREhVTNrmXyCWNHJNO6v4L0YKjwL&q=pandas+%E5%88%97%E6%8A%BD%E5%87%BA&oq=pandas+%E5%88%97%E6%8A%BD%E5%87%BA&gs_lcp=Cgdnd3Mtd2l6EAMyAggAMgIIADICCAAyAggAMgIIADoECAAQBDoICAAQsQMQgwE6BwgAELEDEAQ6CggAELEDEIMBEAQ6BQgAELEDOgYIABAEEAM6CAgAEAQQChAqOgYIABAEEAo6CAgAEAQQChAeOgUIIRCgAToGCAAQBBAeUKoGWOpzYNJ1aAlwAHgBgAHpAYgBhB-SAQY0LjMxLjGYAQCgAQGqAQdnd3Mtd2l6&sclient=gws-wiz&ved=0ahUKEwibq5qNlqLvAhV5yYsBHd96A7MQ4dUDCAw&uact=5)ならこういう結果が得られます。検索上手になろう。\n"
      ]
    },
    {
      "cell_type": "markdown",
      "metadata": {
        "id": "s3x0bqzR2c8C"
      },
      "source": [
        "## 利用パッケージと公式ドキュメントやチュートリアル\n",
        "すべてを使いこなすのではなく、必要な時に必要なものを探し出せるようになろう。\n",
        "\n",
        "- Python標準モジュール\n",
        "  - [zipfile](https://docs.python.org/ja/3/library/zipfile.html): ZIPアーカイブの処理。\n",
        "  - [pathlib](https://docs.python.org/ja/3/library/pathlib.html): ファイルパス処理。\n",
        "  - [io](https://docs.python.org/ja/3/library/io.html): 入出力処理。\n",
        "- 外部パッケージ\n",
        "  - requests: HTTPライブラリ。\n",
        "    - [クイックスタート](https://requests-docs-ja.readthedocs.io/en/latest/user/quickstart/)\n",
        "  - numpy: 数値演算・行列演算ライブラリ。\n",
        "    - [quickstart](https://docs.scipy.org/doc/numpy/user/quickstart.html) | [tutorial](https://avinton.com/python-numpy-tutorial-japanese/)\n",
        "  - pandas: 表形式データ操作ライブラリ。\n",
        "    - [tutorial](https://pandas.pydata.org/pandas-docs/stable/tutorials.html) | [10 Minutes to pandas](https://pandas.pydata.org/pandas-docs/stable/10min.html)\n",
        "  - matplotlib: 可視化ライブラリ。\n",
        "    - [tutorial](https://matplotlib.org/stable/tutorials/index.html)\n",
        "  - seaborn: 可視化ライブラリ。\n",
        "    - [tutorial](https://seaborn.pydata.org/tutorial.html)\n",
        "- Linuxコマンド\n",
        "  - ls: ファイル一覧をリスト表示。Windowsのdir相当。\n",
        "  - tree: 階層構造を可視化。"
      ]
    },
    {
      "cell_type": "code",
      "metadata": {
        "id": "H3mLPkj41ZGZ"
      },
      "source": [
        "# Python標準モジュール\n",
        "#from zipfile import ZipFile\n",
        "from pathlib import Path\n",
        "import zipfile, io\n",
        "\n",
        "# 外部パッケージ\n",
        "import requests\n",
        "import pandas as pd\n",
        "import numpy as np\n",
        "import matplotlib.pyplot as plt\n",
        "import seaborn as sns\n"
      ],
      "execution_count": 75,
      "outputs": []
    },
    {
      "cell_type": "markdown",
      "metadata": {
        "id": "gUJfGzg-VeOW"
      },
      "source": [
        "## データセットの準備"
      ]
    },
    {
      "cell_type": "markdown",
      "metadata": {
        "id": "INXemu4gbp1J"
      },
      "source": [
        "### データセットのダウンロード\n",
        "今回利用するデータセットは [MovieLens](http://files.grouplens.org/datasets/movielens/ml-latest-small-README.html) の最小データセットを利用する。MovieLensは、視聴者による映画に対する5点満点のレビューを収集して構築したものであり、「ユーザ1番は映画500番に対して4点を付けた」というデータの集合になっている。またユーザの嗜好や映画の属性についてもある程度判断するための情報として、ユーザは年齢・性別、映画はタイトル・カテゴリ・出版年が付与されている。"
      ]
    },
    {
      "cell_type": "code",
      "metadata": {
        "colab": {
          "base_uri": "https://localhost:8080/"
        },
        "id": "h7lDxSgMwTuN",
        "outputId": "c26e67a8-0d80-40ea-da72-298d3b910453"
      },
      "source": [
        "#!curl -O http://files.grouplens.org/datasets/movielens/ml-latest-small.zip\n",
        "\n",
        "!apt install tree\n",
        "#!rm -rf *\n",
        "\n",
        "#import requests, zipfile, io\n",
        "\n",
        "movielens_zipfile_url = \"http://files.grouplens.org/datasets/movielens/ml-latest-small.zip\"\n",
        "save_path = \"./\"\n",
        "r = requests.get(movielens_zipfile_url)\n",
        "print(r)\n",
        "print(type(r))\n",
        "print(r.content)\n",
        "\n",
        "zfile = zipfile.ZipFile(io.BytesIO(r.content))\n",
        "zfile.extractall(save_path)\n",
        "\n",
        "!ls\n",
        "!ls ml-latest-small/*\n",
        "!tree"
      ],
      "execution_count": 76,
      "outputs": [
        {
          "output_type": "stream",
          "text": [
            "Reading package lists... Done\n",
            "Building dependency tree       \n",
            "Reading state information... Done\n",
            "tree is already the newest version (1.7.0-5).\n",
            "0 upgraded, 0 newly installed, 0 to remove and 29 not upgraded.\n"
          ],
          "name": "stdout"
        },
        {
          "output_type": "stream",
          "text": [
            "IOPub data rate exceeded.\n",
            "The notebook server will temporarily stop sending output\n",
            "to the client in order to avoid crashing it.\n",
            "To change this limit, set the config variable\n",
            "`--NotebookApp.iopub_data_rate_limit`.\n",
            "\n",
            "Current values:\n",
            "NotebookApp.iopub_data_rate_limit=1000000.0 (bytes/sec)\n",
            "NotebookApp.rate_limit_window=3.0 (secs)\n",
            "\n"
          ],
          "name": "stderr"
        },
        {
          "output_type": "stream",
          "text": [
            "ml-latest-small/links.csv    ml-latest-small/README.txt\n",
            "ml-latest-small/movies.csv   ml-latest-small/tags.csv\n",
            "ml-latest-small/ratings.csv\n",
            ".\n",
            "├── ml-latest-small\n",
            "│   ├── links.csv\n",
            "│   ├── movies.csv\n",
            "│   ├── ratings.csv\n",
            "│   ├── README.txt\n",
            "│   └── tags.csv\n",
            "└── sample_data\n",
            "    ├── anscombe.json\n",
            "    ├── california_housing_test.csv\n",
            "    ├── california_housing_train.csv\n",
            "    ├── mnist_test.csv\n",
            "    ├── mnist_train_small.csv\n",
            "    └── README.md\n",
            "\n",
            "2 directories, 11 files\n"
          ],
          "name": "stdout"
        }
      ]
    },
    {
      "cell_type": "markdown",
      "metadata": {
        "id": "bwL94zLI8XSw"
      },
      "source": [
        "### CSVファイルをpd.DataFrameに変換し覗いてみる\n",
        "pandasではデータセットを[DataFrame型](https://pandas.pydata.org/pandas-docs/stable/reference/api/pandas.DataFrame.html)と呼ばれる二次元表形式の構造でデータを管理し、処理することが多い。\n",
        "\n",
        "表をExcelのような表計算ソフトで処理する場合には「行方向インデックス（1〜N）」「列方向インデックス（A〜AZ,,,）」を用いて対象セルを指定し、平均値や分散を求めたり、特定条件に合致する値を抽出して処理することになる。\n",
        "\n",
        "ここでは代表的な行・列指定方法、値の参照方法を眺めていこう。\n",
        "\n",
        "- 参考: ml-latest-small詳細: [ml-latest-small-README.html](http://files.grouplens.org/datasets/movielens/ml-latest-small-README.html)\n",
        "- tips\n",
        "  - ``pd.reac_csv('filename')`` でCSVやTSV形式のファイルを読み込むことができる。なおファイル冒頭に列名が記載されている場合にはそれを列名として読み取ることもできるし、逆にそれをスキップすることもできる。詳細は[ドキュメント](https://pandas.pydata.org/pandas-docs/stable/reference/api/pandas.read_csv.html)で確認しよう。\n",
        "  - DataFrameに対して ``head()`` で冒頭5個までのデータを眺めることができる。大規模データを全出力しても意味がないため、ざっくりと確認したい場合に便利。\n",
        "  - 今回のデータセットは以下の4つのデータフレームで構成されている。これらを組み合わせて利用すると、例えば「movieId==1は'Toy Story (1995)'で、そのカテゴリは Adventure等複数が付与されている。より詳細情報は[imdbで114709](https://www.imdb.com/title/tt0114709/)から参照できる。この映画に対してuserId==1は4点を付けている」といったことを読み出すことができる。たかだか4つのファイルでも頭の中で組み合わせて考えるのは難しいので、自分なりに図を書いてどう関連しているかを鳥瞰しやすくしよう。\n",
        "\t- links: movieId, imdbId, tmdbId\n",
        "\t- movies: movieId, title, genres\n",
        "\t- ratings: userId, movieId, rating, timestamp\n",
        "\t- tags: userId, movieId, tag, timestamp"
      ]
    },
    {
      "cell_type": "code",
      "metadata": {
        "colab": {
          "base_uri": "https://localhost:8080/",
          "height": 221
        },
        "id": "NuIkiodo73ia",
        "outputId": "084abbae-b681-4dc4-9f98-193314cd36c4"
      },
      "source": [
        "links = pd.read_csv('ml-latest-small/links.csv')\n",
        "print(type(links))\n",
        "links.head()"
      ],
      "execution_count": 77,
      "outputs": [
        {
          "output_type": "stream",
          "text": [
            "<class 'pandas.core.frame.DataFrame'>\n"
          ],
          "name": "stdout"
        },
        {
          "output_type": "execute_result",
          "data": {
            "text/html": [
              "<div>\n",
              "<style scoped>\n",
              "    .dataframe tbody tr th:only-of-type {\n",
              "        vertical-align: middle;\n",
              "    }\n",
              "\n",
              "    .dataframe tbody tr th {\n",
              "        vertical-align: top;\n",
              "    }\n",
              "\n",
              "    .dataframe thead th {\n",
              "        text-align: right;\n",
              "    }\n",
              "</style>\n",
              "<table border=\"1\" class=\"dataframe\">\n",
              "  <thead>\n",
              "    <tr style=\"text-align: right;\">\n",
              "      <th></th>\n",
              "      <th>movieId</th>\n",
              "      <th>imdbId</th>\n",
              "      <th>tmdbId</th>\n",
              "    </tr>\n",
              "  </thead>\n",
              "  <tbody>\n",
              "    <tr>\n",
              "      <th>0</th>\n",
              "      <td>1</td>\n",
              "      <td>114709</td>\n",
              "      <td>862.0</td>\n",
              "    </tr>\n",
              "    <tr>\n",
              "      <th>1</th>\n",
              "      <td>2</td>\n",
              "      <td>113497</td>\n",
              "      <td>8844.0</td>\n",
              "    </tr>\n",
              "    <tr>\n",
              "      <th>2</th>\n",
              "      <td>3</td>\n",
              "      <td>113228</td>\n",
              "      <td>15602.0</td>\n",
              "    </tr>\n",
              "    <tr>\n",
              "      <th>3</th>\n",
              "      <td>4</td>\n",
              "      <td>114885</td>\n",
              "      <td>31357.0</td>\n",
              "    </tr>\n",
              "    <tr>\n",
              "      <th>4</th>\n",
              "      <td>5</td>\n",
              "      <td>113041</td>\n",
              "      <td>11862.0</td>\n",
              "    </tr>\n",
              "  </tbody>\n",
              "</table>\n",
              "</div>"
            ],
            "text/plain": [
              "   movieId  imdbId   tmdbId\n",
              "0        1  114709    862.0\n",
              "1        2  113497   8844.0\n",
              "2        3  113228  15602.0\n",
              "3        4  114885  31357.0\n",
              "4        5  113041  11862.0"
            ]
          },
          "metadata": {
            "tags": []
          },
          "execution_count": 77
        }
      ]
    },
    {
      "cell_type": "code",
      "metadata": {
        "colab": {
          "base_uri": "https://localhost:8080/",
          "height": 204
        },
        "id": "RXJ1c5ed73pu",
        "outputId": "247985aa-580c-4eb0-d663-0006a5fcc824"
      },
      "source": [
        "movies = pd.read_csv('ml-latest-small/movies.csv')\n",
        "movies.head()"
      ],
      "execution_count": 78,
      "outputs": [
        {
          "output_type": "execute_result",
          "data": {
            "text/html": [
              "<div>\n",
              "<style scoped>\n",
              "    .dataframe tbody tr th:only-of-type {\n",
              "        vertical-align: middle;\n",
              "    }\n",
              "\n",
              "    .dataframe tbody tr th {\n",
              "        vertical-align: top;\n",
              "    }\n",
              "\n",
              "    .dataframe thead th {\n",
              "        text-align: right;\n",
              "    }\n",
              "</style>\n",
              "<table border=\"1\" class=\"dataframe\">\n",
              "  <thead>\n",
              "    <tr style=\"text-align: right;\">\n",
              "      <th></th>\n",
              "      <th>movieId</th>\n",
              "      <th>title</th>\n",
              "      <th>genres</th>\n",
              "    </tr>\n",
              "  </thead>\n",
              "  <tbody>\n",
              "    <tr>\n",
              "      <th>0</th>\n",
              "      <td>1</td>\n",
              "      <td>Toy Story (1995)</td>\n",
              "      <td>Adventure|Animation|Children|Comedy|Fantasy</td>\n",
              "    </tr>\n",
              "    <tr>\n",
              "      <th>1</th>\n",
              "      <td>2</td>\n",
              "      <td>Jumanji (1995)</td>\n",
              "      <td>Adventure|Children|Fantasy</td>\n",
              "    </tr>\n",
              "    <tr>\n",
              "      <th>2</th>\n",
              "      <td>3</td>\n",
              "      <td>Grumpier Old Men (1995)</td>\n",
              "      <td>Comedy|Romance</td>\n",
              "    </tr>\n",
              "    <tr>\n",
              "      <th>3</th>\n",
              "      <td>4</td>\n",
              "      <td>Waiting to Exhale (1995)</td>\n",
              "      <td>Comedy|Drama|Romance</td>\n",
              "    </tr>\n",
              "    <tr>\n",
              "      <th>4</th>\n",
              "      <td>5</td>\n",
              "      <td>Father of the Bride Part II (1995)</td>\n",
              "      <td>Comedy</td>\n",
              "    </tr>\n",
              "  </tbody>\n",
              "</table>\n",
              "</div>"
            ],
            "text/plain": [
              "   movieId                               title  \\\n",
              "0        1                    Toy Story (1995)   \n",
              "1        2                      Jumanji (1995)   \n",
              "2        3             Grumpier Old Men (1995)   \n",
              "3        4            Waiting to Exhale (1995)   \n",
              "4        5  Father of the Bride Part II (1995)   \n",
              "\n",
              "                                        genres  \n",
              "0  Adventure|Animation|Children|Comedy|Fantasy  \n",
              "1                   Adventure|Children|Fantasy  \n",
              "2                               Comedy|Romance  \n",
              "3                         Comedy|Drama|Romance  \n",
              "4                                       Comedy  "
            ]
          },
          "metadata": {
            "tags": []
          },
          "execution_count": 78
        }
      ]
    },
    {
      "cell_type": "code",
      "metadata": {
        "colab": {
          "base_uri": "https://localhost:8080/",
          "height": 204
        },
        "id": "GXz28hLx8mhm",
        "outputId": "895551ab-496a-45db-c60b-daae5731241f"
      },
      "source": [
        "ratings = pd.read_csv('ml-latest-small/ratings.csv')\n",
        "ratings.head()"
      ],
      "execution_count": 79,
      "outputs": [
        {
          "output_type": "execute_result",
          "data": {
            "text/html": [
              "<div>\n",
              "<style scoped>\n",
              "    .dataframe tbody tr th:only-of-type {\n",
              "        vertical-align: middle;\n",
              "    }\n",
              "\n",
              "    .dataframe tbody tr th {\n",
              "        vertical-align: top;\n",
              "    }\n",
              "\n",
              "    .dataframe thead th {\n",
              "        text-align: right;\n",
              "    }\n",
              "</style>\n",
              "<table border=\"1\" class=\"dataframe\">\n",
              "  <thead>\n",
              "    <tr style=\"text-align: right;\">\n",
              "      <th></th>\n",
              "      <th>userId</th>\n",
              "      <th>movieId</th>\n",
              "      <th>rating</th>\n",
              "      <th>timestamp</th>\n",
              "    </tr>\n",
              "  </thead>\n",
              "  <tbody>\n",
              "    <tr>\n",
              "      <th>0</th>\n",
              "      <td>1</td>\n",
              "      <td>1</td>\n",
              "      <td>4.0</td>\n",
              "      <td>964982703</td>\n",
              "    </tr>\n",
              "    <tr>\n",
              "      <th>1</th>\n",
              "      <td>1</td>\n",
              "      <td>3</td>\n",
              "      <td>4.0</td>\n",
              "      <td>964981247</td>\n",
              "    </tr>\n",
              "    <tr>\n",
              "      <th>2</th>\n",
              "      <td>1</td>\n",
              "      <td>6</td>\n",
              "      <td>4.0</td>\n",
              "      <td>964982224</td>\n",
              "    </tr>\n",
              "    <tr>\n",
              "      <th>3</th>\n",
              "      <td>1</td>\n",
              "      <td>47</td>\n",
              "      <td>5.0</td>\n",
              "      <td>964983815</td>\n",
              "    </tr>\n",
              "    <tr>\n",
              "      <th>4</th>\n",
              "      <td>1</td>\n",
              "      <td>50</td>\n",
              "      <td>5.0</td>\n",
              "      <td>964982931</td>\n",
              "    </tr>\n",
              "  </tbody>\n",
              "</table>\n",
              "</div>"
            ],
            "text/plain": [
              "   userId  movieId  rating  timestamp\n",
              "0       1        1     4.0  964982703\n",
              "1       1        3     4.0  964981247\n",
              "2       1        6     4.0  964982224\n",
              "3       1       47     5.0  964983815\n",
              "4       1       50     5.0  964982931"
            ]
          },
          "metadata": {
            "tags": []
          },
          "execution_count": 79
        }
      ]
    },
    {
      "cell_type": "code",
      "metadata": {
        "colab": {
          "base_uri": "https://localhost:8080/",
          "height": 204
        },
        "id": "YIzhzKtY8mkk",
        "outputId": "b7fd7072-9229-447e-98ad-9b6edc407f7e"
      },
      "source": [
        "tags = pd.read_csv('ml-latest-small/tags.csv')\n",
        "tags.head()"
      ],
      "execution_count": 80,
      "outputs": [
        {
          "output_type": "execute_result",
          "data": {
            "text/html": [
              "<div>\n",
              "<style scoped>\n",
              "    .dataframe tbody tr th:only-of-type {\n",
              "        vertical-align: middle;\n",
              "    }\n",
              "\n",
              "    .dataframe tbody tr th {\n",
              "        vertical-align: top;\n",
              "    }\n",
              "\n",
              "    .dataframe thead th {\n",
              "        text-align: right;\n",
              "    }\n",
              "</style>\n",
              "<table border=\"1\" class=\"dataframe\">\n",
              "  <thead>\n",
              "    <tr style=\"text-align: right;\">\n",
              "      <th></th>\n",
              "      <th>userId</th>\n",
              "      <th>movieId</th>\n",
              "      <th>tag</th>\n",
              "      <th>timestamp</th>\n",
              "    </tr>\n",
              "  </thead>\n",
              "  <tbody>\n",
              "    <tr>\n",
              "      <th>0</th>\n",
              "      <td>2</td>\n",
              "      <td>60756</td>\n",
              "      <td>funny</td>\n",
              "      <td>1445714994</td>\n",
              "    </tr>\n",
              "    <tr>\n",
              "      <th>1</th>\n",
              "      <td>2</td>\n",
              "      <td>60756</td>\n",
              "      <td>Highly quotable</td>\n",
              "      <td>1445714996</td>\n",
              "    </tr>\n",
              "    <tr>\n",
              "      <th>2</th>\n",
              "      <td>2</td>\n",
              "      <td>60756</td>\n",
              "      <td>will ferrell</td>\n",
              "      <td>1445714992</td>\n",
              "    </tr>\n",
              "    <tr>\n",
              "      <th>3</th>\n",
              "      <td>2</td>\n",
              "      <td>89774</td>\n",
              "      <td>Boxing story</td>\n",
              "      <td>1445715207</td>\n",
              "    </tr>\n",
              "    <tr>\n",
              "      <th>4</th>\n",
              "      <td>2</td>\n",
              "      <td>89774</td>\n",
              "      <td>MMA</td>\n",
              "      <td>1445715200</td>\n",
              "    </tr>\n",
              "  </tbody>\n",
              "</table>\n",
              "</div>"
            ],
            "text/plain": [
              "   userId  movieId              tag   timestamp\n",
              "0       2    60756            funny  1445714994\n",
              "1       2    60756  Highly quotable  1445714996\n",
              "2       2    60756     will ferrell  1445714992\n",
              "3       2    89774     Boxing story  1445715207\n",
              "4       2    89774              MMA  1445715200"
            ]
          },
          "metadata": {
            "tags": []
          },
          "execution_count": 80
        }
      ]
    },
    {
      "cell_type": "markdown",
      "metadata": {
        "id": "8FTputq7aL-W"
      },
      "source": [
        "## 行や列を指定した簡易処理"
      ]
    },
    {
      "cell_type": "markdown",
      "metadata": {
        "id": "ImEdAtNbdljg"
      },
      "source": [
        "### 特定の行（サンプル）や列（特徴）を指定して眺めてみる\n",
        "moviesはmovieId, title, genresの3要素で構成されるデータが並んでいる。ここではtitleだけを指定し、かつ、冒頭5番目までのデータを出力指定している。\n",
        "\n",
        "- tips\n",
        "  - DataFrameに対して ``['列名']`` で列を指定できる。\n",
        "  - DataFrameに対して ``[start:end]`` のようにスライス処理（これはPythonのリストに対する処理と同等）を記述することで、連続した複数行を指定できる。startを省略した場合は冒頭から、endを省略した場合は最後までという意味になる。"
      ]
    },
    {
      "cell_type": "code",
      "metadata": {
        "colab": {
          "base_uri": "https://localhost:8080/"
        },
        "id": "lH55J-cWdsWc",
        "outputId": "8a12ca9f-ff24-4e65-af22-c3fd6fb38b83"
      },
      "source": [
        "print(movies.columns)\n",
        "print(movies['title'][:5])"
      ],
      "execution_count": 81,
      "outputs": [
        {
          "output_type": "stream",
          "text": [
            "Index(['movieId', 'title', 'genres'], dtype='object')\n",
            "0                      Toy Story (1995)\n",
            "1                        Jumanji (1995)\n",
            "2               Grumpier Old Men (1995)\n",
            "3              Waiting to Exhale (1995)\n",
            "4    Father of the Bride Part II (1995)\n",
            "Name: title, dtype: object\n"
          ],
          "name": "stdout"
        }
      ]
    },
    {
      "cell_type": "code",
      "metadata": {
        "colab": {
          "base_uri": "https://localhost:8080/"
        },
        "id": "2qXGL0OUfH8-",
        "outputId": "af43a27f-38ff-48f1-963a-b1bd4edc4956"
      },
      "source": [
        "print(movies.loc[:5])"
      ],
      "execution_count": 82,
      "outputs": [
        {
          "output_type": "stream",
          "text": [
            "   movieId                               title  \\\n",
            "0        1                    Toy Story (1995)   \n",
            "1        2                      Jumanji (1995)   \n",
            "2        3             Grumpier Old Men (1995)   \n",
            "3        4            Waiting to Exhale (1995)   \n",
            "4        5  Father of the Bride Part II (1995)   \n",
            "5        6                         Heat (1995)   \n",
            "\n",
            "                                        genres  \n",
            "0  Adventure|Animation|Children|Comedy|Fantasy  \n",
            "1                   Adventure|Children|Fantasy  \n",
            "2                               Comedy|Romance  \n",
            "3                         Comedy|Drama|Romance  \n",
            "4                                       Comedy  \n",
            "5                        Action|Crime|Thriller  \n"
          ],
          "name": "stdout"
        }
      ]
    },
    {
      "cell_type": "code",
      "metadata": {
        "colab": {
          "base_uri": "https://localhost:8080/"
        },
        "id": "Me78zNQ9fPTQ",
        "outputId": "5d8b9914-af2c-45de-a828-9d65ef71cf80"
      },
      "source": [
        "# 省略させずに全て表示させるにはオプション設定が必要。\n",
        "# これはnumpyでも同様。\n",
        "pd.set_option('display.max_columns', 10)\n",
        "print(movies.loc[:5])"
      ],
      "execution_count": 83,
      "outputs": [
        {
          "output_type": "stream",
          "text": [
            "   movieId                               title  \\\n",
            "0        1                    Toy Story (1995)   \n",
            "1        2                      Jumanji (1995)   \n",
            "2        3             Grumpier Old Men (1995)   \n",
            "3        4            Waiting to Exhale (1995)   \n",
            "4        5  Father of the Bride Part II (1995)   \n",
            "5        6                         Heat (1995)   \n",
            "\n",
            "                                        genres  \n",
            "0  Adventure|Animation|Children|Comedy|Fantasy  \n",
            "1                   Adventure|Children|Fantasy  \n",
            "2                               Comedy|Romance  \n",
            "3                         Comedy|Drama|Romance  \n",
            "4                                       Comedy  \n",
            "5                        Action|Crime|Thriller  \n"
          ],
          "name": "stdout"
        }
      ]
    },
    {
      "cell_type": "markdown",
      "metadata": {
        "id": "pQQmse069Dwv"
      },
      "source": [
        "### 条件を指定して眺めてみる1（userId == 1 のレーティングを確認）"
      ]
    },
    {
      "cell_type": "code",
      "metadata": {
        "colab": {
          "base_uri": "https://localhost:8080/"
        },
        "id": "D8XmFsgyhfQ-",
        "outputId": "9ec85696-089b-45eb-f934-852d45878213"
      },
      "source": [
        "# 条件式だけではTrue/Falseという判断結果しか出力されない。\n",
        "print(ratings['userId'] == 1)"
      ],
      "execution_count": 84,
      "outputs": [
        {
          "output_type": "stream",
          "text": [
            "0          True\n",
            "1          True\n",
            "2          True\n",
            "3          True\n",
            "4          True\n",
            "          ...  \n",
            "100831    False\n",
            "100832    False\n",
            "100833    False\n",
            "100834    False\n",
            "100835    False\n",
            "Name: userId, Length: 100836, dtype: bool\n"
          ],
          "name": "stdout"
        }
      ]
    },
    {
      "cell_type": "code",
      "metadata": {
        "colab": {
          "base_uri": "https://localhost:8080/"
        },
        "id": "3VUl0hABhyZH",
        "outputId": "c45da365-95ea-4855-e569-37db1c67bd6b"
      },
      "source": [
        "# 判断結果に基づいて合致する行を調べるには、同じDataFrameを参照し直す必要がある。\n",
        "print(ratings[ratings['userId'] == 1])"
      ],
      "execution_count": 85,
      "outputs": [
        {
          "output_type": "stream",
          "text": [
            "     userId  movieId  rating  timestamp\n",
            "0         1        1     4.0  964982703\n",
            "1         1        3     4.0  964981247\n",
            "2         1        6     4.0  964982224\n",
            "3         1       47     5.0  964983815\n",
            "4         1       50     5.0  964982931\n",
            "..      ...      ...     ...        ...\n",
            "227       1     3744     4.0  964980694\n",
            "228       1     3793     5.0  964981855\n",
            "229       1     3809     4.0  964981220\n",
            "230       1     4006     4.0  964982903\n",
            "231       1     5060     5.0  964984002\n",
            "\n",
            "[232 rows x 4 columns]\n"
          ],
          "name": "stdout"
        }
      ]
    },
    {
      "cell_type": "markdown",
      "metadata": {
        "id": "PlpW_zDCij4S"
      },
      "source": [
        "### 数値情報の概要（出現回数・平均・分散・最小値・最大値・四分位数）を眺めてみる"
      ]
    },
    {
      "cell_type": "code",
      "metadata": {
        "colab": {
          "base_uri": "https://localhost:8080/"
        },
        "id": "KHA2eMqCmHOi",
        "outputId": "f430520a-7cda-4b71-8e5b-4b274a652460"
      },
      "source": [
        "ratings['rating'].mean()"
      ],
      "execution_count": 86,
      "outputs": [
        {
          "output_type": "execute_result",
          "data": {
            "text/plain": [
              "3.501556983616962"
            ]
          },
          "metadata": {
            "tags": []
          },
          "execution_count": 86
        }
      ]
    },
    {
      "cell_type": "code",
      "metadata": {
        "colab": {
          "base_uri": "https://localhost:8080/"
        },
        "id": "qGjrNzJ6mUJD",
        "outputId": "bbd03c48-fec2-4676-c907-40021de6cb0f"
      },
      "source": [
        "ratings['rating'].std()"
      ],
      "execution_count": 87,
      "outputs": [
        {
          "output_type": "execute_result",
          "data": {
            "text/plain": [
              "1.0425292390605359"
            ]
          },
          "metadata": {
            "tags": []
          },
          "execution_count": 87
        }
      ]
    },
    {
      "cell_type": "code",
      "metadata": {
        "colab": {
          "base_uri": "https://localhost:8080/",
          "height": 317
        },
        "id": "eXRkdgoyitVg",
        "outputId": "70b13d89-e88f-47b3-b953-a4a4c9553b60"
      },
      "source": [
        "ratings.describe()"
      ],
      "execution_count": 88,
      "outputs": [
        {
          "output_type": "execute_result",
          "data": {
            "text/html": [
              "<div>\n",
              "<style scoped>\n",
              "    .dataframe tbody tr th:only-of-type {\n",
              "        vertical-align: middle;\n",
              "    }\n",
              "\n",
              "    .dataframe tbody tr th {\n",
              "        vertical-align: top;\n",
              "    }\n",
              "\n",
              "    .dataframe thead th {\n",
              "        text-align: right;\n",
              "    }\n",
              "</style>\n",
              "<table border=\"1\" class=\"dataframe\">\n",
              "  <thead>\n",
              "    <tr style=\"text-align: right;\">\n",
              "      <th></th>\n",
              "      <th>userId</th>\n",
              "      <th>movieId</th>\n",
              "      <th>rating</th>\n",
              "      <th>timestamp</th>\n",
              "    </tr>\n",
              "  </thead>\n",
              "  <tbody>\n",
              "    <tr>\n",
              "      <th>count</th>\n",
              "      <td>100836.00</td>\n",
              "      <td>100836.00</td>\n",
              "      <td>100836.00</td>\n",
              "      <td>1.01e+05</td>\n",
              "    </tr>\n",
              "    <tr>\n",
              "      <th>mean</th>\n",
              "      <td>326.13</td>\n",
              "      <td>19435.30</td>\n",
              "      <td>3.50</td>\n",
              "      <td>1.21e+09</td>\n",
              "    </tr>\n",
              "    <tr>\n",
              "      <th>std</th>\n",
              "      <td>182.62</td>\n",
              "      <td>35530.99</td>\n",
              "      <td>1.04</td>\n",
              "      <td>2.16e+08</td>\n",
              "    </tr>\n",
              "    <tr>\n",
              "      <th>min</th>\n",
              "      <td>1.00</td>\n",
              "      <td>1.00</td>\n",
              "      <td>0.50</td>\n",
              "      <td>8.28e+08</td>\n",
              "    </tr>\n",
              "    <tr>\n",
              "      <th>25%</th>\n",
              "      <td>177.00</td>\n",
              "      <td>1199.00</td>\n",
              "      <td>3.00</td>\n",
              "      <td>1.02e+09</td>\n",
              "    </tr>\n",
              "    <tr>\n",
              "      <th>50%</th>\n",
              "      <td>325.00</td>\n",
              "      <td>2991.00</td>\n",
              "      <td>3.50</td>\n",
              "      <td>1.19e+09</td>\n",
              "    </tr>\n",
              "    <tr>\n",
              "      <th>75%</th>\n",
              "      <td>477.00</td>\n",
              "      <td>8122.00</td>\n",
              "      <td>4.00</td>\n",
              "      <td>1.44e+09</td>\n",
              "    </tr>\n",
              "    <tr>\n",
              "      <th>max</th>\n",
              "      <td>610.00</td>\n",
              "      <td>193609.00</td>\n",
              "      <td>5.00</td>\n",
              "      <td>1.54e+09</td>\n",
              "    </tr>\n",
              "  </tbody>\n",
              "</table>\n",
              "</div>"
            ],
            "text/plain": [
              "          userId    movieId     rating  timestamp\n",
              "count  100836.00  100836.00  100836.00   1.01e+05\n",
              "mean      326.13   19435.30       3.50   1.21e+09\n",
              "std       182.62   35530.99       1.04   2.16e+08\n",
              "min         1.00       1.00       0.50   8.28e+08\n",
              "25%       177.00    1199.00       3.00   1.02e+09\n",
              "50%       325.00    2991.00       3.50   1.19e+09\n",
              "75%       477.00    8122.00       4.00   1.44e+09\n",
              "max       610.00  193609.00       5.00   1.54e+09"
            ]
          },
          "metadata": {
            "tags": []
          },
          "execution_count": 88
        }
      ]
    },
    {
      "cell_type": "code",
      "metadata": {
        "colab": {
          "base_uri": "https://localhost:8080/",
          "height": 317
        },
        "id": "lmWJmo9f7310",
        "outputId": "62089962-1ae2-4340-fc29-0d37a9988a36"
      },
      "source": [
        "# userId == 1の概要\n",
        "df = ratings[ratings['userId'] == 1]\n",
        "df.describe()"
      ],
      "execution_count": 89,
      "outputs": [
        {
          "output_type": "execute_result",
          "data": {
            "text/html": [
              "<div>\n",
              "<style scoped>\n",
              "    .dataframe tbody tr th:only-of-type {\n",
              "        vertical-align: middle;\n",
              "    }\n",
              "\n",
              "    .dataframe tbody tr th {\n",
              "        vertical-align: top;\n",
              "    }\n",
              "\n",
              "    .dataframe thead th {\n",
              "        text-align: right;\n",
              "    }\n",
              "</style>\n",
              "<table border=\"1\" class=\"dataframe\">\n",
              "  <thead>\n",
              "    <tr style=\"text-align: right;\">\n",
              "      <th></th>\n",
              "      <th>userId</th>\n",
              "      <th>movieId</th>\n",
              "      <th>rating</th>\n",
              "      <th>timestamp</th>\n",
              "    </tr>\n",
              "  </thead>\n",
              "  <tbody>\n",
              "    <tr>\n",
              "      <th>count</th>\n",
              "      <td>232.0</td>\n",
              "      <td>232.00</td>\n",
              "      <td>232.00</td>\n",
              "      <td>2.32e+02</td>\n",
              "    </tr>\n",
              "    <tr>\n",
              "      <th>mean</th>\n",
              "      <td>1.0</td>\n",
              "      <td>1854.60</td>\n",
              "      <td>4.37</td>\n",
              "      <td>9.65e+08</td>\n",
              "    </tr>\n",
              "    <tr>\n",
              "      <th>std</th>\n",
              "      <td>0.0</td>\n",
              "      <td>1055.96</td>\n",
              "      <td>0.80</td>\n",
              "      <td>4.84e+04</td>\n",
              "    </tr>\n",
              "    <tr>\n",
              "      <th>min</th>\n",
              "      <td>1.0</td>\n",
              "      <td>1.00</td>\n",
              "      <td>1.00</td>\n",
              "      <td>9.65e+08</td>\n",
              "    </tr>\n",
              "    <tr>\n",
              "      <th>25%</th>\n",
              "      <td>1.0</td>\n",
              "      <td>1047.25</td>\n",
              "      <td>4.00</td>\n",
              "      <td>9.65e+08</td>\n",
              "    </tr>\n",
              "    <tr>\n",
              "      <th>50%</th>\n",
              "      <td>1.0</td>\n",
              "      <td>1960.50</td>\n",
              "      <td>5.00</td>\n",
              "      <td>9.65e+08</td>\n",
              "    </tr>\n",
              "    <tr>\n",
              "      <th>75%</th>\n",
              "      <td>1.0</td>\n",
              "      <td>2641.75</td>\n",
              "      <td>5.00</td>\n",
              "      <td>9.65e+08</td>\n",
              "    </tr>\n",
              "    <tr>\n",
              "      <th>max</th>\n",
              "      <td>1.0</td>\n",
              "      <td>5060.00</td>\n",
              "      <td>5.00</td>\n",
              "      <td>9.66e+08</td>\n",
              "    </tr>\n",
              "  </tbody>\n",
              "</table>\n",
              "</div>"
            ],
            "text/plain": [
              "       userId  movieId  rating  timestamp\n",
              "count   232.0   232.00  232.00   2.32e+02\n",
              "mean      1.0  1854.60    4.37   9.65e+08\n",
              "std       0.0  1055.96    0.80   4.84e+04\n",
              "min       1.0     1.00    1.00   9.65e+08\n",
              "25%       1.0  1047.25    4.00   9.65e+08\n",
              "50%       1.0  1960.50    5.00   9.65e+08\n",
              "75%       1.0  2641.75    5.00   9.65e+08\n",
              "max       1.0  5060.00    5.00   9.66e+08"
            ]
          },
          "metadata": {
            "tags": []
          },
          "execution_count": 89
        }
      ]
    },
    {
      "cell_type": "code",
      "metadata": {
        "colab": {
          "base_uri": "https://localhost:8080/",
          "height": 317
        },
        "id": "wlmMzPVgm8OP",
        "outputId": "b5ef26a4-4e55-4b67-c32d-9c199e3933a9"
      },
      "source": [
        "# レーティングの値は1〜5の整数値。\n",
        "# その平均値や分散に小数点下5桁とかの意味はある？\n",
        "# 必要に応じて出力桁を調整するか、値そのものを調整することがある。\n",
        "# ここでは値はそのままにし、print出力時の表示のみ調整しよう。\n",
        "pd.options.display.precision = 2\n",
        "df.describe()"
      ],
      "execution_count": 90,
      "outputs": [
        {
          "output_type": "execute_result",
          "data": {
            "text/html": [
              "<div>\n",
              "<style scoped>\n",
              "    .dataframe tbody tr th:only-of-type {\n",
              "        vertical-align: middle;\n",
              "    }\n",
              "\n",
              "    .dataframe tbody tr th {\n",
              "        vertical-align: top;\n",
              "    }\n",
              "\n",
              "    .dataframe thead th {\n",
              "        text-align: right;\n",
              "    }\n",
              "</style>\n",
              "<table border=\"1\" class=\"dataframe\">\n",
              "  <thead>\n",
              "    <tr style=\"text-align: right;\">\n",
              "      <th></th>\n",
              "      <th>userId</th>\n",
              "      <th>movieId</th>\n",
              "      <th>rating</th>\n",
              "      <th>timestamp</th>\n",
              "    </tr>\n",
              "  </thead>\n",
              "  <tbody>\n",
              "    <tr>\n",
              "      <th>count</th>\n",
              "      <td>232.0</td>\n",
              "      <td>232.00</td>\n",
              "      <td>232.00</td>\n",
              "      <td>2.32e+02</td>\n",
              "    </tr>\n",
              "    <tr>\n",
              "      <th>mean</th>\n",
              "      <td>1.0</td>\n",
              "      <td>1854.60</td>\n",
              "      <td>4.37</td>\n",
              "      <td>9.65e+08</td>\n",
              "    </tr>\n",
              "    <tr>\n",
              "      <th>std</th>\n",
              "      <td>0.0</td>\n",
              "      <td>1055.96</td>\n",
              "      <td>0.80</td>\n",
              "      <td>4.84e+04</td>\n",
              "    </tr>\n",
              "    <tr>\n",
              "      <th>min</th>\n",
              "      <td>1.0</td>\n",
              "      <td>1.00</td>\n",
              "      <td>1.00</td>\n",
              "      <td>9.65e+08</td>\n",
              "    </tr>\n",
              "    <tr>\n",
              "      <th>25%</th>\n",
              "      <td>1.0</td>\n",
              "      <td>1047.25</td>\n",
              "      <td>4.00</td>\n",
              "      <td>9.65e+08</td>\n",
              "    </tr>\n",
              "    <tr>\n",
              "      <th>50%</th>\n",
              "      <td>1.0</td>\n",
              "      <td>1960.50</td>\n",
              "      <td>5.00</td>\n",
              "      <td>9.65e+08</td>\n",
              "    </tr>\n",
              "    <tr>\n",
              "      <th>75%</th>\n",
              "      <td>1.0</td>\n",
              "      <td>2641.75</td>\n",
              "      <td>5.00</td>\n",
              "      <td>9.65e+08</td>\n",
              "    </tr>\n",
              "    <tr>\n",
              "      <th>max</th>\n",
              "      <td>1.0</td>\n",
              "      <td>5060.00</td>\n",
              "      <td>5.00</td>\n",
              "      <td>9.66e+08</td>\n",
              "    </tr>\n",
              "  </tbody>\n",
              "</table>\n",
              "</div>"
            ],
            "text/plain": [
              "       userId  movieId  rating  timestamp\n",
              "count   232.0   232.00  232.00   2.32e+02\n",
              "mean      1.0  1854.60    4.37   9.65e+08\n",
              "std       0.0  1055.96    0.80   4.84e+04\n",
              "min       1.0     1.00    1.00   9.65e+08\n",
              "25%       1.0  1047.25    4.00   9.65e+08\n",
              "50%       1.0  1960.50    5.00   9.65e+08\n",
              "75%       1.0  2641.75    5.00   9.65e+08\n",
              "max       1.0  5060.00    5.00   9.66e+08"
            ]
          },
          "metadata": {
            "tags": []
          },
          "execution_count": 90
        }
      ]
    },
    {
      "cell_type": "markdown",
      "metadata": {
        "id": "D9GjnyQ7eJsx"
      },
      "source": [
        "## 大雑把に可視化してみる\n",
        "- tips\n",
        "  - DataFrameに対して[plot](https://pandas.pydata.org/pandas-docs/stable/reference/api/pandas.DataFrame.plot.html)でグラフ描画できる。ただし全ての数値をプロット対象とするため、必要に応じて指定した方が良い。\n",
        "  - [seaborn](https://seaborn.pydata.org)も便利。ここでは箱ひげ図出力に使っていますが、上記のDataFrame.plotでも箱ひげ図自体は作図できます。"
      ]
    },
    {
      "cell_type": "markdown",
      "metadata": {
        "id": "v39wz6n5hX7k"
      },
      "source": [
        "### pd.plotでグラフ描画"
      ]
    },
    {
      "cell_type": "code",
      "metadata": {
        "colab": {
          "base_uri": "https://localhost:8080/",
          "height": 293
        },
        "id": "QOJGKwwweO5V",
        "outputId": "a1819215-98e2-4860-dd38-31be08e36aaf"
      },
      "source": [
        "# DataFrameに対してplot()を実行すると、\n",
        "# 数値データを全て折れ線グラフで出力する。\n",
        "\n",
        "ratings.plot()"
      ],
      "execution_count": 91,
      "outputs": [
        {
          "output_type": "execute_result",
          "data": {
            "text/plain": [
              "<matplotlib.axes._subplots.AxesSubplot at 0x7f3f796dc5d0>"
            ]
          },
          "metadata": {
            "tags": []
          },
          "execution_count": 91
        },
        {
          "output_type": "display_data",
          "data": {
            "image/png": "[encoded data removed]",
            "text/plain": [
              "<Figure size 432x288 with 1 Axes>"
            ]
          },
          "metadata": {
            "tags": [],
            "needs_background": "light"
          }
        }
      ]
    },
    {
      "cell_type": "code",
      "metadata": {
        "colab": {
          "base_uri": "https://localhost:8080/",
          "height": 282
        },
        "id": "28o-_Wfeem86",
        "outputId": "a5bc589b-6543-4828-ec10-d0014867a2a9"
      },
      "source": [
        "# 集計と同様にカラム指定も可能。\n",
        "\n",
        "ratings['rating'].plot()"
      ],
      "execution_count": 92,
      "outputs": [
        {
          "output_type": "execute_result",
          "data": {
            "text/plain": [
              "<matplotlib.axes._subplots.AxesSubplot at 0x7f3f7cbdded0>"
            ]
          },
          "metadata": {
            "tags": []
          },
          "execution_count": 92
        },
        {
          "output_type": "display_data",
          "data": {
            "image/png": "[encoded data removed]",
            "text/plain": [
              "<Figure size 432x288 with 1 Axes>"
            ]
          },
          "metadata": {
            "tags": [],
            "needs_background": "light"
          }
        }
      ]
    },
    {
      "cell_type": "markdown",
      "metadata": {
        "id": "GhsX_YLphikQ"
      },
      "source": [
        "### 条件絞り込んでpd.plot"
      ]
    },
    {
      "cell_type": "code",
      "metadata": {
        "colab": {
          "base_uri": "https://localhost:8080/",
          "height": 309
        },
        "id": "xESdFOWxe1x6",
        "outputId": "66a84f7a-0599-49a0-f079-8c7ebf85a1fa"
      },
      "source": [
        "# movieId == 1 だけ抽出\n",
        "\n",
        "temp = ratings[ ratings['movieId']==1 ]\n",
        "print(temp)\n",
        "temp.describe()\n",
        "temp['rating'].plot()"
      ],
      "execution_count": 93,
      "outputs": [
        {
          "output_type": "stream",
          "text": [
            "       userId  movieId  rating   timestamp\n",
            "0           1        1     4.0   964982703\n",
            "516         5        1     4.0   847434962\n",
            "874         7        1     4.5  1106635946\n",
            "1434       15        1     2.5  1510577970\n",
            "1667       17        1     4.5  1305696483\n",
            "...       ...      ...     ...         ...\n",
            "97364     606        1     2.5  1349082950\n",
            "98479     607        1     4.0   964744033\n",
            "98666     608        1     2.5  1117408267\n",
            "99497     609        1     3.0   847221025\n",
            "99534     610        1     5.0  1479542900\n",
            "\n",
            "[215 rows x 4 columns]\n"
          ],
          "name": "stdout"
        },
        {
          "output_type": "execute_result",
          "data": {
            "text/plain": [
              "<matplotlib.axes._subplots.AxesSubplot at 0x7f3f7cc54a90>"
            ]
          },
          "metadata": {
            "tags": []
          },
          "execution_count": 93
        },
        {
          "output_type": "display_data",
          "data": {
            "image/png": "[encoded data removed]",
            "text/plain": [
              "<Figure size 432x288 with 1 Axes>"
            ]
          },
          "metadata": {
            "tags": [],
            "needs_background": "light"
          }
        }
      ]
    },
    {
      "cell_type": "markdown",
      "metadata": {
        "id": "V5f6BRyUhp9q"
      },
      "source": [
        "### pd.plot(kind='hist')でヒストグラム"
      ]
    },
    {
      "cell_type": "code",
      "metadata": {
        "colab": {
          "base_uri": "https://localhost:8080/",
          "height": 71
        },
        "id": "MH63nLYBgdgg",
        "outputId": "43796369-965a-4954-8289-48290edce63f"
      },
      "source": [
        "# 折れ線グラフでは良く分からないのでヒストグラムにしてみる。\n",
        "\n",
        "temp['rating'].plot(kind='hist')"
      ],
      "execution_count": 94,
      "outputs": [
        {
          "output_type": "execute_result",
          "data": {
            "text/plain": [
              "<matplotlib.axes._subplots.AxesSubplot at 0x7f3f7cbddd10>"
            ]
          },
          "metadata": {
            "tags": []
          },
          "execution_count": 94
        },
        {
          "output_type": "display_data",
          "data": {
            "image/png": "[encoded data removed]",
            "text/plain": [
              "<Figure size 432x288 with 1 Axes>"
            ]
          },
          "metadata": {
            "tags": [],
            "needs_background": "light"
          }
        }
      ]
    },
    {
      "cell_type": "markdown",
      "metadata": {
        "id": "1dIh9yYWhwwd"
      },
      "source": [
        "### seaborn.boxplot で箱ひげ図"
      ]
    },
    {
      "cell_type": "code",
      "metadata": {
        "colab": {
          "base_uri": "https://localhost:8080/",
          "height": 71
        },
        "id": "G9g0EFoG36XK",
        "outputId": "51a03314-36d4-4776-d287-f7d2b771a256"
      },
      "source": [
        "# 映画毎の箱ひげ図を出力してみる。\n",
        "# 全ての映画を出力すると圧縮されすぎて目視できないため、ここではmovieId=1〜20までを指定。\n",
        "\n",
        "temp = ratings[ratings['movieId'] <= 20]\n",
        "sns.boxplot(x='movieId', y='rating', data=temp)"
      ],
      "execution_count": 95,
      "outputs": [
        {
          "output_type": "execute_result",
          "data": {
            "text/plain": [
              "<matplotlib.axes._subplots.AxesSubplot at 0x7f3f7952cb10>"
            ]
          },
          "metadata": {
            "tags": []
          },
          "execution_count": 95
        },
        {
          "output_type": "display_data",
          "data": {
            "image/png": "[encoded data removed]",
            "text/plain": [
              "<Figure size 432x288 with 1 Axes>"
            ]
          },
          "metadata": {
            "tags": [],
            "needs_background": "light"
          }
        }
      ]
    },
    {
      "cell_type": "markdown",
      "metadata": {
        "id": "KlcblO6Xt0Fc"
      },
      "source": [
        "## テーブルを組み合わせるてみる\n",
        "ユーザを行、列を映画とする行列を作成し、各要素の値をratingとする（ない場合にはNoneにする）。これをユーザ・映画行列と呼ぶことにしよう。ユーザ・映画行列を用意できれば「同じ映画集合に対して高評価を付けているユーザグループ」を抽出できるかもしれない。そのようなグループを抽出できたならば「同じグループが高評価しているが、まだ評価されていない映画」を発見することで高評価を得やすい映画を推薦できるだろう。このように映画の視聴履歴を元に推薦する方法を[協調フィルタリング](https://www.ai-gakkai.or.jp/whatsai/AItopics2.html)と呼ぶ。\n",
        "\n",
        "今は詳細を省くが、以下の手順で視聴履歴を利用してみよう。\n",
        "\n",
        "- step 1: ユーザ・映画行列を作成。\n",
        "- step 2: ユーザ間の類似度を算出。\n",
        "- step 3: あるユーザiに対する最大類似度となるユーザjを抽出。\n",
        "- step 4: ユーザjが高く評価している映画をリストアップ。\n",
        "- step 5: リストアップした映画からユーザiが見ていないもの（＝推薦候補）を抽出。"
      ]
    },
    {
      "cell_type": "markdown",
      "metadata": {
        "id": "YvzNdw6yy0sx"
      },
      "source": [
        "### step 1: ユーザ・映画行列を作成。\n",
        "- ``NaN`` は Not a Number の略。数値ではない値のこと。ここでは該当要素に値がなかった場合のデフォルト値として設定されている。\n",
        "- [pd.pivot_table](https://pandas.pydata.org/pandas-docs/stable/reference/api/pandas.pivot_table.html)でピボットテーブルを作成。"
      ]
    },
    {
      "cell_type": "code",
      "metadata": {
        "colab": {
          "base_uri": "https://localhost:8080/",
          "height": 470
        },
        "id": "pOigiJ1ct177",
        "outputId": "5d06b561-8122-4fd1-8e66-f13560118da1"
      },
      "source": [
        "df = ratings.pivot_table(index='userId', columns='movieId', values='rating')\n",
        "df"
      ],
      "execution_count": 96,
      "outputs": [
        {
          "output_type": "execute_result",
          "data": {
            "text/html": [
              "<div>\n",
              "<style scoped>\n",
              "    .dataframe tbody tr th:only-of-type {\n",
              "        vertical-align: middle;\n",
              "    }\n",
              "\n",
              "    .dataframe tbody tr th {\n",
              "        vertical-align: top;\n",
              "    }\n",
              "\n",
              "    .dataframe thead th {\n",
              "        text-align: right;\n",
              "    }\n",
              "</style>\n",
              "<table border=\"1\" class=\"dataframe\">\n",
              "  <thead>\n",
              "    <tr style=\"text-align: right;\">\n",
              "      <th>movieId</th>\n",
              "      <th>1</th>\n",
              "      <th>2</th>\n",
              "      <th>3</th>\n",
              "      <th>4</th>\n",
              "      <th>5</th>\n",
              "      <th>...</th>\n",
              "      <th>193581</th>\n",
              "      <th>193583</th>\n",
              "      <th>193585</th>\n",
              "      <th>193587</th>\n",
              "      <th>193609</th>\n",
              "    </tr>\n",
              "    <tr>\n",
              "      <th>userId</th>\n",
              "      <th></th>\n",
              "      <th></th>\n",
              "      <th></th>\n",
              "      <th></th>\n",
              "      <th></th>\n",
              "      <th></th>\n",
              "      <th></th>\n",
              "      <th></th>\n",
              "      <th></th>\n",
              "      <th></th>\n",
              "      <th></th>\n",
              "    </tr>\n",
              "  </thead>\n",
              "  <tbody>\n",
              "    <tr>\n",
              "      <th>1</th>\n",
              "      <td>4.0</td>\n",
              "      <td>NaN</td>\n",
              "      <td>4.0</td>\n",
              "      <td>NaN</td>\n",
              "      <td>NaN</td>\n",
              "      <td>...</td>\n",
              "      <td>NaN</td>\n",
              "      <td>NaN</td>\n",
              "      <td>NaN</td>\n",
              "      <td>NaN</td>\n",
              "      <td>NaN</td>\n",
              "    </tr>\n",
              "    <tr>\n",
              "      <th>2</th>\n",
              "      <td>NaN</td>\n",
              "      <td>NaN</td>\n",
              "      <td>NaN</td>\n",
              "      <td>NaN</td>\n",
              "      <td>NaN</td>\n",
              "      <td>...</td>\n",
              "      <td>NaN</td>\n",
              "      <td>NaN</td>\n",
              "      <td>NaN</td>\n",
              "      <td>NaN</td>\n",
              "      <td>NaN</td>\n",
              "    </tr>\n",
              "    <tr>\n",
              "      <th>3</th>\n",
              "      <td>NaN</td>\n",
              "      <td>NaN</td>\n",
              "      <td>NaN</td>\n",
              "      <td>NaN</td>\n",
              "      <td>NaN</td>\n",
              "      <td>...</td>\n",
              "      <td>NaN</td>\n",
              "      <td>NaN</td>\n",
              "      <td>NaN</td>\n",
              "      <td>NaN</td>\n",
              "      <td>NaN</td>\n",
              "    </tr>\n",
              "    <tr>\n",
              "      <th>4</th>\n",
              "      <td>NaN</td>\n",
              "      <td>NaN</td>\n",
              "      <td>NaN</td>\n",
              "      <td>NaN</td>\n",
              "      <td>NaN</td>\n",
              "      <td>...</td>\n",
              "      <td>NaN</td>\n",
              "      <td>NaN</td>\n",
              "      <td>NaN</td>\n",
              "      <td>NaN</td>\n",
              "      <td>NaN</td>\n",
              "    </tr>\n",
              "    <tr>\n",
              "      <th>5</th>\n",
              "      <td>4.0</td>\n",
              "      <td>NaN</td>\n",
              "      <td>NaN</td>\n",
              "      <td>NaN</td>\n",
              "      <td>NaN</td>\n",
              "      <td>...</td>\n",
              "      <td>NaN</td>\n",
              "      <td>NaN</td>\n",
              "      <td>NaN</td>\n",
              "      <td>NaN</td>\n",
              "      <td>NaN</td>\n",
              "    </tr>\n",
              "    <tr>\n",
              "      <th>...</th>\n",
              "      <td>...</td>\n",
              "      <td>...</td>\n",
              "      <td>...</td>\n",
              "      <td>...</td>\n",
              "      <td>...</td>\n",
              "      <td>...</td>\n",
              "      <td>...</td>\n",
              "      <td>...</td>\n",
              "      <td>...</td>\n",
              "      <td>...</td>\n",
              "      <td>...</td>\n",
              "    </tr>\n",
              "    <tr>\n",
              "      <th>606</th>\n",
              "      <td>2.5</td>\n",
              "      <td>NaN</td>\n",
              "      <td>NaN</td>\n",
              "      <td>NaN</td>\n",
              "      <td>NaN</td>\n",
              "      <td>...</td>\n",
              "      <td>NaN</td>\n",
              "      <td>NaN</td>\n",
              "      <td>NaN</td>\n",
              "      <td>NaN</td>\n",
              "      <td>NaN</td>\n",
              "    </tr>\n",
              "    <tr>\n",
              "      <th>607</th>\n",
              "      <td>4.0</td>\n",
              "      <td>NaN</td>\n",
              "      <td>NaN</td>\n",
              "      <td>NaN</td>\n",
              "      <td>NaN</td>\n",
              "      <td>...</td>\n",
              "      <td>NaN</td>\n",
              "      <td>NaN</td>\n",
              "      <td>NaN</td>\n",
              "      <td>NaN</td>\n",
              "      <td>NaN</td>\n",
              "    </tr>\n",
              "    <tr>\n",
              "      <th>608</th>\n",
              "      <td>2.5</td>\n",
              "      <td>2.0</td>\n",
              "      <td>2.0</td>\n",
              "      <td>NaN</td>\n",
              "      <td>NaN</td>\n",
              "      <td>...</td>\n",
              "      <td>NaN</td>\n",
              "      <td>NaN</td>\n",
              "      <td>NaN</td>\n",
              "      <td>NaN</td>\n",
              "      <td>NaN</td>\n",
              "    </tr>\n",
              "    <tr>\n",
              "      <th>609</th>\n",
              "      <td>3.0</td>\n",
              "      <td>NaN</td>\n",
              "      <td>NaN</td>\n",
              "      <td>NaN</td>\n",
              "      <td>NaN</td>\n",
              "      <td>...</td>\n",
              "      <td>NaN</td>\n",
              "      <td>NaN</td>\n",
              "      <td>NaN</td>\n",
              "      <td>NaN</td>\n",
              "      <td>NaN</td>\n",
              "    </tr>\n",
              "    <tr>\n",
              "      <th>610</th>\n",
              "      <td>5.0</td>\n",
              "      <td>NaN</td>\n",
              "      <td>NaN</td>\n",
              "      <td>NaN</td>\n",
              "      <td>NaN</td>\n",
              "      <td>...</td>\n",
              "      <td>NaN</td>\n",
              "      <td>NaN</td>\n",
              "      <td>NaN</td>\n",
              "      <td>NaN</td>\n",
              "      <td>NaN</td>\n",
              "    </tr>\n",
              "  </tbody>\n",
              "</table>\n",
              "<p>610 rows × 9724 columns</p>\n",
              "</div>"
            ],
            "text/plain": [
              "movieId  1       2       3       4       5       ...  193581  193583  193585  \\\n",
              "userId                                           ...                           \n",
              "1           4.0     NaN     4.0     NaN     NaN  ...     NaN     NaN     NaN   \n",
              "2           NaN     NaN     NaN     NaN     NaN  ...     NaN     NaN     NaN   \n",
              "3           NaN     NaN     NaN     NaN     NaN  ...     NaN     NaN     NaN   \n",
              "4           NaN     NaN     NaN     NaN     NaN  ...     NaN     NaN     NaN   \n",
              "5           4.0     NaN     NaN     NaN     NaN  ...     NaN     NaN     NaN   \n",
              "...         ...     ...     ...     ...     ...  ...     ...     ...     ...   \n",
              "606         2.5     NaN     NaN     NaN     NaN  ...     NaN     NaN     NaN   \n",
              "607         4.0     NaN     NaN     NaN     NaN  ...     NaN     NaN     NaN   \n",
              "608         2.5     2.0     2.0     NaN     NaN  ...     NaN     NaN     NaN   \n",
              "609         3.0     NaN     NaN     NaN     NaN  ...     NaN     NaN     NaN   \n",
              "610         5.0     NaN     NaN     NaN     NaN  ...     NaN     NaN     NaN   \n",
              "\n",
              "movieId  193587  193609  \n",
              "userId                   \n",
              "1           NaN     NaN  \n",
              "2           NaN     NaN  \n",
              "3           NaN     NaN  \n",
              "4           NaN     NaN  \n",
              "5           NaN     NaN  \n",
              "...         ...     ...  \n",
              "606         NaN     NaN  \n",
              "607         NaN     NaN  \n",
              "608         NaN     NaN  \n",
              "609         NaN     NaN  \n",
              "610         NaN     NaN  \n",
              "\n",
              "[610 rows x 9724 columns]"
            ]
          },
          "metadata": {
            "tags": []
          },
          "execution_count": 96
        }
      ]
    },
    {
      "cell_type": "code",
      "metadata": {
        "id": "lN5t2sBrIUea",
        "colab": {
          "base_uri": "https://localhost:8080/",
          "height": 346
        },
        "outputId": "2c8caeae-0551-4127-b423-dd55f5338460"
      },
      "source": [
        "df.describe()"
      ],
      "execution_count": 97,
      "outputs": [
        {
          "output_type": "execute_result",
          "data": {
            "text/html": [
              "<div>\n",
              "<style scoped>\n",
              "    .dataframe tbody tr th:only-of-type {\n",
              "        vertical-align: middle;\n",
              "    }\n",
              "\n",
              "    .dataframe tbody tr th {\n",
              "        vertical-align: top;\n",
              "    }\n",
              "\n",
              "    .dataframe thead th {\n",
              "        text-align: right;\n",
              "    }\n",
              "</style>\n",
              "<table border=\"1\" class=\"dataframe\">\n",
              "  <thead>\n",
              "    <tr style=\"text-align: right;\">\n",
              "      <th>movieId</th>\n",
              "      <th>1</th>\n",
              "      <th>2</th>\n",
              "      <th>3</th>\n",
              "      <th>4</th>\n",
              "      <th>5</th>\n",
              "      <th>...</th>\n",
              "      <th>193581</th>\n",
              "      <th>193583</th>\n",
              "      <th>193585</th>\n",
              "      <th>193587</th>\n",
              "      <th>193609</th>\n",
              "    </tr>\n",
              "  </thead>\n",
              "  <tbody>\n",
              "    <tr>\n",
              "      <th>count</th>\n",
              "      <td>215.00</td>\n",
              "      <td>110.00</td>\n",
              "      <td>52.00</td>\n",
              "      <td>7.00</td>\n",
              "      <td>49.00</td>\n",
              "      <td>...</td>\n",
              "      <td>1.0</td>\n",
              "      <td>1.0</td>\n",
              "      <td>1.0</td>\n",
              "      <td>1.0</td>\n",
              "      <td>1.0</td>\n",
              "    </tr>\n",
              "    <tr>\n",
              "      <th>mean</th>\n",
              "      <td>3.92</td>\n",
              "      <td>3.43</td>\n",
              "      <td>3.26</td>\n",
              "      <td>2.36</td>\n",
              "      <td>3.07</td>\n",
              "      <td>...</td>\n",
              "      <td>4.0</td>\n",
              "      <td>3.5</td>\n",
              "      <td>3.5</td>\n",
              "      <td>3.5</td>\n",
              "      <td>4.0</td>\n",
              "    </tr>\n",
              "    <tr>\n",
              "      <th>std</th>\n",
              "      <td>0.83</td>\n",
              "      <td>0.88</td>\n",
              "      <td>1.05</td>\n",
              "      <td>0.85</td>\n",
              "      <td>0.91</td>\n",
              "      <td>...</td>\n",
              "      <td>NaN</td>\n",
              "      <td>NaN</td>\n",
              "      <td>NaN</td>\n",
              "      <td>NaN</td>\n",
              "      <td>NaN</td>\n",
              "    </tr>\n",
              "    <tr>\n",
              "      <th>min</th>\n",
              "      <td>0.50</td>\n",
              "      <td>0.50</td>\n",
              "      <td>0.50</td>\n",
              "      <td>1.00</td>\n",
              "      <td>0.50</td>\n",
              "      <td>...</td>\n",
              "      <td>4.0</td>\n",
              "      <td>3.5</td>\n",
              "      <td>3.5</td>\n",
              "      <td>3.5</td>\n",
              "      <td>4.0</td>\n",
              "    </tr>\n",
              "    <tr>\n",
              "      <th>25%</th>\n",
              "      <td>3.50</td>\n",
              "      <td>3.00</td>\n",
              "      <td>3.00</td>\n",
              "      <td>1.75</td>\n",
              "      <td>3.00</td>\n",
              "      <td>...</td>\n",
              "      <td>4.0</td>\n",
              "      <td>3.5</td>\n",
              "      <td>3.5</td>\n",
              "      <td>3.5</td>\n",
              "      <td>4.0</td>\n",
              "    </tr>\n",
              "    <tr>\n",
              "      <th>50%</th>\n",
              "      <td>4.00</td>\n",
              "      <td>3.50</td>\n",
              "      <td>3.00</td>\n",
              "      <td>3.00</td>\n",
              "      <td>3.00</td>\n",
              "      <td>...</td>\n",
              "      <td>4.0</td>\n",
              "      <td>3.5</td>\n",
              "      <td>3.5</td>\n",
              "      <td>3.5</td>\n",
              "      <td>4.0</td>\n",
              "    </tr>\n",
              "    <tr>\n",
              "      <th>75%</th>\n",
              "      <td>4.50</td>\n",
              "      <td>4.00</td>\n",
              "      <td>4.00</td>\n",
              "      <td>3.00</td>\n",
              "      <td>3.50</td>\n",
              "      <td>...</td>\n",
              "      <td>4.0</td>\n",
              "      <td>3.5</td>\n",
              "      <td>3.5</td>\n",
              "      <td>3.5</td>\n",
              "      <td>4.0</td>\n",
              "    </tr>\n",
              "    <tr>\n",
              "      <th>max</th>\n",
              "      <td>5.00</td>\n",
              "      <td>5.00</td>\n",
              "      <td>5.00</td>\n",
              "      <td>3.00</td>\n",
              "      <td>5.00</td>\n",
              "      <td>...</td>\n",
              "      <td>4.0</td>\n",
              "      <td>3.5</td>\n",
              "      <td>3.5</td>\n",
              "      <td>3.5</td>\n",
              "      <td>4.0</td>\n",
              "    </tr>\n",
              "  </tbody>\n",
              "</table>\n",
              "<p>8 rows × 9724 columns</p>\n",
              "</div>"
            ],
            "text/plain": [
              "movieId  1       2       3       4       5       ...  193581  193583  193585  \\\n",
              "count    215.00  110.00   52.00    7.00   49.00  ...     1.0     1.0     1.0   \n",
              "mean       3.92    3.43    3.26    2.36    3.07  ...     4.0     3.5     3.5   \n",
              "std        0.83    0.88    1.05    0.85    0.91  ...     NaN     NaN     NaN   \n",
              "min        0.50    0.50    0.50    1.00    0.50  ...     4.0     3.5     3.5   \n",
              "25%        3.50    3.00    3.00    1.75    3.00  ...     4.0     3.5     3.5   \n",
              "50%        4.00    3.50    3.00    3.00    3.00  ...     4.0     3.5     3.5   \n",
              "75%        4.50    4.00    4.00    3.00    3.50  ...     4.0     3.5     3.5   \n",
              "max        5.00    5.00    5.00    3.00    5.00  ...     4.0     3.5     3.5   \n",
              "\n",
              "movieId  193587  193609  \n",
              "count       1.0     1.0  \n",
              "mean        3.5     4.0  \n",
              "std         NaN     NaN  \n",
              "min         3.5     4.0  \n",
              "25%         3.5     4.0  \n",
              "50%         3.5     4.0  \n",
              "75%         3.5     4.0  \n",
              "max         3.5     4.0  \n",
              "\n",
              "[8 rows x 9724 columns]"
            ]
          },
          "metadata": {
            "tags": []
          },
          "execution_count": 97
        }
      ]
    },
    {
      "cell_type": "markdown",
      "metadata": {
        "id": "UTthDQ6s2u9K"
      },
      "source": [
        "### step 2: ユーザ間の類似度を算出。\n",
        "ユーザ間類似度は「評価値の二乗誤差」を用いることにしよう。同じ映画を見ているとは限らないため、視聴映画リストで重複している映画だけを抽出し、誤差を算出する必要がある。\n",
        "- [df.notnull](https://pandas.pydata.org/pandas-docs/stable/reference/api/pandas.DataFrame.notnull.html)で欠損値を除外。\n",
        "- [df.index](https://pandas.pydata.org/pandas-docs/stable/reference/api/pandas.DataFrame.index.html)で該当列インデックスを参照。\n",
        "- [set.intersection](https://docs.python.org/ja/3/library/stdtypes.html#frozenset.intersection)で共通集合を抽出。\n",
        "- [np.array](https://numpy.org/doc/stable/reference/generated/numpy.array.html)でnumpy用配列（ndarray）型に変換。\n",
        "- [np.dot](https://numpy.org/doc/stable/reference/generated/numpy.dot.html)で内積計算。\n",
        "- [np.linalg.norm](https://numpy.org/doc/stable/reference/generated/numpy.linalg.norm.html#numpy.linalg.norm)でベクトルのノルム（大きさ）計算。"
      ]
    },
    {
      "cell_type": "code",
      "metadata": {
        "colab": {
          "base_uri": "https://localhost:8080/"
        },
        "id": "ifWmVgbj2zbI",
        "outputId": "028aee8c-212c-4756-81b9-c6c4c3e805d2"
      },
      "source": [
        "# userId==1が見た映画リストを抽出。\n",
        "# NaN（Not a Number）を除外したもの。\n",
        "\n",
        "print(df.loc[1]) # userId==1の視聴履歴\n",
        "print(df.loc[1].notnull()) # 値の有無\n",
        "print(df.loc[1][df.loc[1].notnull()]) # 値の有るもの\n",
        "print(df.loc[1][df.loc[1].notnull()].index) # 値の有るmovieId"
      ],
      "execution_count": 98,
      "outputs": [
        {
          "output_type": "stream",
          "text": [
            "movieId\n",
            "1         4.0\n",
            "2         NaN\n",
            "3         4.0\n",
            "4         NaN\n",
            "5         NaN\n",
            "         ... \n",
            "193581    NaN\n",
            "193583    NaN\n",
            "193585    NaN\n",
            "193587    NaN\n",
            "193609    NaN\n",
            "Name: 1, Length: 9724, dtype: float64\n",
            "movieId\n",
            "1          True\n",
            "2         False\n",
            "3          True\n",
            "4         False\n",
            "5         False\n",
            "          ...  \n",
            "193581    False\n",
            "193583    False\n",
            "193585    False\n",
            "193587    False\n",
            "193609    False\n",
            "Name: 1, Length: 9724, dtype: bool\n",
            "movieId\n",
            "1       4.0\n",
            "3       4.0\n",
            "6       4.0\n",
            "47      5.0\n",
            "50      5.0\n",
            "       ... \n",
            "3744    4.0\n",
            "3793    5.0\n",
            "3809    4.0\n",
            "4006    4.0\n",
            "5060    5.0\n",
            "Name: 1, Length: 232, dtype: float64\n",
            "Int64Index([   1,    3,    6,   47,   50,   70,  101,  110,  151,  157,\n",
            "            ...\n",
            "            3671, 3702, 3703, 3729, 3740, 3744, 3793, 3809, 4006, 5060],\n",
            "           dtype='int64', name='movieId', length=232)\n"
          ],
          "name": "stdout"
        }
      ]
    },
    {
      "cell_type": "code",
      "metadata": {
        "colab": {
          "base_uri": "https://localhost:8080/"
        },
        "id": "TopKwcwD6ZpU",
        "outputId": "6682e6e8-55f1-41d0-ed05-3d01754c1994"
      },
      "source": [
        "# 映画リストを基準にしたuserId==1の評価値を参照する方法。\n",
        "index = set(df.loc[1][df.loc[1].notnull()].index)\n",
        "df.loc[1][index]"
      ],
      "execution_count": 99,
      "outputs": [
        {
          "output_type": "execute_result",
          "data": {
            "text/plain": [
              "movieId\n",
              "1024    5.0\n",
              "1       4.0\n",
              "1025    5.0\n",
              "3       4.0\n",
              "2048    5.0\n",
              "       ... \n",
              "500     3.0\n",
              "3062    4.0\n",
              "3578    5.0\n",
              "2046    4.0\n",
              "1023    5.0\n",
              "Name: 1, Length: 232, dtype: float64"
            ]
          },
          "metadata": {
            "tags": []
          },
          "execution_count": 99
        }
      ]
    },
    {
      "cell_type": "code",
      "metadata": {
        "colab": {
          "base_uri": "https://localhost:8080/"
        },
        "id": "dCqvcN4IiUeT",
        "outputId": "dc2d8279-65b4-46ea-a47c-13b6e3770dad"
      },
      "source": [
        "# userId=1と2で重複するインデックスを抽出する方法。\n",
        "index1 = set(df.loc[1][df.loc[1].notnull()].index)\n",
        "index2 = set(df.loc[2][df.loc[2].notnull()].index)\n",
        "common_index = index1.intersection(index2)\n",
        "print(len(index1), len(index2))\n",
        "print(len(common_index))\n",
        "print(common_index)"
      ],
      "execution_count": 100,
      "outputs": [
        {
          "output_type": "stream",
          "text": [
            "232 29\n",
            "2\n",
            "{3578, 333}\n"
          ],
          "name": "stdout"
        }
      ]
    },
    {
      "cell_type": "code",
      "metadata": {
        "colab": {
          "base_uri": "https://localhost:8080/"
        },
        "id": "Xiwg7Vee4_Cd",
        "outputId": "39248e2e-713a-4c51-9c54-2d8382058007"
      },
      "source": [
        "# ユーザ間類似度は「評価値の二乗誤差」を用いることにしよう。\n",
        "# 同じ映画を見ているとは限らないため、\n",
        "# 視聴映画リストで重複している映画だけを抽出し、誤差を算出する必要がある。\n",
        "\n",
        "def get_similarity(person1, person2, dataset):\n",
        "  # person1とperson2の映画リスト\n",
        "  movies1 = dataset.loc[person1][dataset.loc[person1].notnull()].index\n",
        "  movies2 = dataset.loc[person2][dataset.loc[person2].notnull()].index\n",
        "\n",
        "  # 共通映画リスト\n",
        "  movies1 = set(movies1)\n",
        "  movies2 = set(movies2)\n",
        "  both_movies = movies1.intersection(movies2)\n",
        "\n",
        "  # 共通リストがない場合\n",
        "  if len(both_movies) == 0:\n",
        "    return 0\n",
        "  \n",
        "  #print('{}, {}: len(person1)={}, len(person2)={}, len(both_movies)={}'.format(person1, person2, len(movies1), len(movies2), len(both_movies)))\n",
        "  \n",
        "  # 共通リストがある場合\n",
        "  vector1 = np.array(dataset.loc[person1][both_movies])\n",
        "  vector2 = np.array(dataset.loc[person2][both_movies])\n",
        "  #print(type(vector1), vector1.shape)\n",
        "\n",
        "  nominator = np.dot(vector1, vector2)\n",
        "  denominator = np.linalg.norm(vector1) * np.linalg.norm(vector2)\n",
        "  similarity = nominator / denominator\n",
        "  return similarity\n",
        "\n",
        "print(get_similarity(1, 1, df)) #同じユーザ同士なら類似度1\n",
        "print(get_similarity(1, 2, df))\n",
        "print(get_similarity(2, 1, df)) #違うユーザを順番入れ替えて測っても同じ類似度が出ることを確認\n"
      ],
      "execution_count": 101,
      "outputs": [
        {
          "output_type": "stream",
          "text": [
            "1.0\n",
            "0.9999999999999998\n",
            "0.9999999999999998\n"
          ],
          "name": "stdout"
        }
      ]
    },
    {
      "cell_type": "markdown",
      "metadata": {
        "id": "42YcysNg2zkv"
      },
      "source": [
        "### step 3: あるユーザiに対する最大類似度となるユーザjを抽出。\n"
      ]
    },
    {
      "cell_type": "code",
      "metadata": {
        "colab": {
          "base_uri": "https://localhost:8080/"
        },
        "id": "t2jVNF13CvBa",
        "outputId": "d6f6510f-b64c-4aea-d829-c7b89c5220d0"
      },
      "source": [
        "# コード確認用に小規模データセットを乱数で用意。\n",
        "# 乱数のため実行する度に値が変わることを確認しよう。\n",
        "data = np.random.randn(5)\n",
        "print(data)\n"
      ],
      "execution_count": 102,
      "outputs": [
        {
          "output_type": "stream",
          "text": [
            "[ 0.51421884  0.22117967 -1.07004333 -0.18949583  0.25500144]\n"
          ],
          "name": "stdout"
        }
      ]
    },
    {
      "cell_type": "code",
      "metadata": {
        "colab": {
          "base_uri": "https://localhost:8080/"
        },
        "id": "t3DAZcEPCy6F",
        "outputId": "d333ccf8-3d35-4f57-9c1c-5c042f87b324"
      },
      "source": [
        "# トラブルシューティング等、乱数であってもそれを再現したいことがある。\n",
        "# このような場合にはシード値を与えて実行する。\n",
        "# シード値を固定しておけば何度実行しても同じ値が再現できることを確認しよう。\n",
        "np.random.seed(100) # この値（シード値）は何でも良い。\n",
        "data = np.random.randn(5)\n",
        "print(data)\n"
      ],
      "execution_count": 103,
      "outputs": [
        {
          "output_type": "stream",
          "text": [
            "[-1.74976547  0.3426804   1.1530358  -0.25243604  0.98132079]\n"
          ],
          "name": "stdout"
        }
      ]
    },
    {
      "cell_type": "code",
      "metadata": {
        "colab": {
          "base_uri": "https://localhost:8080/"
        },
        "id": "BjNRCFMnqHZS",
        "outputId": "46a6050c-ffb6-43d6-9c06-c06af3fcc804"
      },
      "source": [
        "\n",
        "# 上位k件の「未ソート」インデックス\n",
        "k = 3\n",
        "indices = np.argpartition(-data, k)[:k]\n",
        "print(indices)\n",
        "\n",
        "# 上位k件の「ソート済み」インデックス\n",
        "indices = indices[np.argsort(-data[indices])]\n",
        "print(indices)\n",
        "\n",
        "# 上位k件の値\n",
        "print(data[indices])"
      ],
      "execution_count": 104,
      "outputs": [
        {
          "output_type": "stream",
          "text": [
            "[2 4 1]\n",
            "[2 4 1]\n",
            "[1.1530358  0.98132079 0.3426804 ]\n"
          ],
          "name": "stdout"
        }
      ]
    },
    {
      "cell_type": "code",
      "metadata": {
        "colab": {
          "base_uri": "https://localhost:8080/"
        },
        "id": "p8iXJxJq0HgV",
        "outputId": "3d527f03-5073-48d8-afff-fd02ade2a2e2"
      },
      "source": [
        "# 大きい順にソートし、インデックスを取得\n",
        "\n",
        "def get_top_k(data, top=3):\n",
        "  indices = np.argpartition(-data, top)[:top]\n",
        "  indices = indices[np.argsort(-data[indices])]\n",
        "  return indices, data[indices]\n",
        "\n",
        "for k in range(1,4):\n",
        "  indices, top_k = get_top_k(data, k)\n",
        "  print('k', k)\n",
        "  print(indices)\n",
        "  print(top_k)\n"
      ],
      "execution_count": 105,
      "outputs": [
        {
          "output_type": "stream",
          "text": [
            "k 1\n",
            "[2]\n",
            "[1.1530358]\n",
            "k 2\n",
            "[2 4]\n",
            "[1.1530358  0.98132079]\n",
            "k 3\n",
            "[2 4 1]\n",
            "[1.1530358  0.98132079 0.3426804 ]\n"
          ],
          "name": "stdout"
        }
      ]
    },
    {
      "cell_type": "code",
      "metadata": {
        "id": "CsESSP7I21BO",
        "colab": {
          "base_uri": "https://localhost:8080/"
        },
        "outputId": "17298cf5-64c1-46bf-998a-c48ccd2cef5c"
      },
      "source": [
        "def get_similarities_top_k(source, dataset, k=3):\n",
        "  targets = list(dataset.index) # ユーザインデックスを取得\n",
        "\n",
        "  # 類似度保存用配列を用意\n",
        "  # 配列長を+1しているのは1番目から使うため。\n",
        "  similarities = np.zeros(len(dataset)+1)\n",
        "\n",
        "  # 全ユーザとの類似度算出\n",
        "  for opponent in targets:\n",
        "    if opponent == source:\n",
        "      similarities[opponent] = 0. #自分自身は無視する\n",
        "    else:\n",
        "      similarities[opponent] = get_similarity(source, opponent, dataset)\n",
        "  \n",
        "  # 降順ソートして上位k人のidを取得\n",
        "  indices, values = get_top_k(similarities, k)\n",
        "  return indices, values\n",
        "\n",
        "# userId==1との類似度上位ユーザを確認\n",
        "k = 3\n",
        "indices, values = get_similarities_top_k(1, df, k)\n",
        "print('k', k)\n",
        "print(indices)\n",
        "print(values)\n"
      ],
      "execution_count": 106,
      "outputs": [
        {
          "output_type": "stream",
          "text": [
            "k 3\n",
            "[383 388 184]\n",
            "[1. 1. 1.]\n"
          ],
          "name": "stdout"
        }
      ]
    },
    {
      "cell_type": "markdown",
      "metadata": {
        "id": "UUvWm9IT21Jp"
      },
      "source": [
        "### step 4: ユーザjが高く評価している映画をリストアップ。\n"
      ]
    },
    {
      "cell_type": "code",
      "metadata": {
        "id": "l5HVOk5M22y8",
        "colab": {
          "base_uri": "https://localhost:8080/"
        },
        "outputId": "df20ac84-9f1c-414b-e328-2ed1eb45dbb9"
      },
      "source": [
        "# ユーザ383の評価とそのインデックス\n",
        "user383_ratings = df.loc[383][df.loc[383].notnull()]\n",
        "user383_ratings_indices = df.loc[383][df.loc[383].notnull()].index\n",
        "print(user383_ratings[:5])\n",
        "print(user383_ratings_indices)"
      ],
      "execution_count": 107,
      "outputs": [
        {
          "output_type": "stream",
          "text": [
            "movieId\n",
            "150     4.0\n",
            "539     4.0\n",
            "903     4.0\n",
            "1196    3.0\n",
            "1234    3.0\n",
            "Name: 383, dtype: float64\n",
            "Int64Index([ 150,  539,  903, 1196, 1234, 1246, 1293, 1299, 1584, 1953, 1994,\n",
            "            2324, 2396, 2436, 2445, 2447, 2496, 2501, 2506, 2539, 2541, 2546,\n",
            "            2558, 2686, 2690, 2712, 2762, 2881, 2906, 2961, 2977, 2996, 3006,\n",
            "            3115],\n",
            "           dtype='int64', name='movieId')\n"
          ],
          "name": "stdout"
        }
      ]
    },
    {
      "cell_type": "code",
      "metadata": {
        "colab": {
          "base_uri": "https://localhost:8080/"
        },
        "id": "pzFH_ASDtK4o",
        "outputId": "f4394c71-d4df-4b4b-f914-b06f54d7c1f6"
      },
      "source": [
        "# ユーザ383の上位評価を抽出\n",
        "# get_top_k は与えた配列の中における順番を返してくるため、元のインデックスに換算し直す必要がある。\n",
        "relative_indices, values = get_top_k(np.array(user383_ratings))\n",
        "print(relative_indices)\n",
        "print(values)\n",
        "\n",
        "true_indices = user383_ratings_indices[relative_indices]\n",
        "print(true_indices)\n",
        "print(user383_ratings[true_indices])"
      ],
      "execution_count": 108,
      "outputs": [
        {
          "output_type": "stream",
          "text": [
            "[12  5 11]\n",
            "[5. 5. 5.]\n",
            "Int64Index([2396, 1246, 2324], dtype='int64', name='movieId')\n",
            "movieId\n",
            "2396    5.0\n",
            "1246    5.0\n",
            "2324    5.0\n",
            "Name: 383, dtype: float64\n"
          ],
          "name": "stdout"
        }
      ]
    },
    {
      "cell_type": "code",
      "metadata": {
        "colab": {
          "base_uri": "https://localhost:8080/"
        },
        "id": "eruoKlBTtif3",
        "outputId": "f3bd9ad5-9768-4cf0-db56-38f114957d14"
      },
      "source": [
        "def get_top_movies(target, df):\n",
        "  # 対象ユーザの評価とそのインデックス\n",
        "  user_ratings = df.loc[target][df.loc[target].notnull()]\n",
        "  user_ratings_indices = df.loc[target][df.loc[target].notnull()].index\n",
        "\n",
        "  # 対象ユーザの上位評価\n",
        "  relative_indices, values = get_top_k(np.array(user_ratings))\n",
        "  true_indices = user_ratings_indices[relative_indices]\n",
        "  return true_indices, user_ratings[true_indices]\n",
        "\n",
        "opponent = 383\n",
        "indices, values = get_top_movies(opponent, df)\n",
        "print(indices)\n",
        "print(values)\n"
      ],
      "execution_count": 109,
      "outputs": [
        {
          "output_type": "stream",
          "text": [
            "Int64Index([2396, 1246, 2324], dtype='int64', name='movieId')\n",
            "movieId\n",
            "2396    5.0\n",
            "1246    5.0\n",
            "2324    5.0\n",
            "Name: 383, dtype: float64\n"
          ],
          "name": "stdout"
        }
      ]
    },
    {
      "cell_type": "markdown",
      "metadata": {
        "id": "rEcjXUAz228j"
      },
      "source": [
        "### step 5: リストアップした映画からユーザiが見ていないもの（＝推薦候補）を抽出。"
      ]
    },
    {
      "cell_type": "code",
      "metadata": {
        "id": "Jh8p0CT6t2B1",
        "colab": {
          "base_uri": "https://localhost:8080/"
        },
        "outputId": "7b2ad713-d4d3-4c77-b6a9-cad0773d4cb8"
      },
      "source": [
        "# userId==1の視聴映画id\n",
        "user1_indices = set(df.loc[1][df.loc[1].notnull()].index)\n",
        "print(user1_indices)\n",
        "\n",
        "# userId==383の高評価映画id\n",
        "user383_indices = set(indices)\n",
        "print(user383_indices)\n",
        "\n",
        "# 高評価idのうち、userId==1がまだ視聴していないid\n",
        "recommend_indices = user383_indices - user1_indices\n",
        "print(recommend_indices)"
      ],
      "execution_count": 110,
      "outputs": [
        {
          "output_type": "stream",
          "text": [
            "{1024, 1, 1025, 3, 2048, 1029, 6, 1030, 1031, 1032, 2054, 2058, 2571, 527, 1552, 1042, 2580, 1049, 2078, 543, 3617, 1060, 1573, 2596, 552, 553, 2090, 1580, 2093, 2094, 47, 2096, 1073, 50, 1587, 2099, 3639, 1080, 2105, 2616, 2617, 1089, 1090, 2115, 1092, 2116, 70, 2628, 1097, 3147, 590, 592, 593, 1617, 2640, 596, 1620, 2641, 2644, 2648, 1625, 2137, 2139, 3671, 2141, 2654, 2143, 608, 2657, 3168, 101, 1127, 3176, 1644, 110, 1136, 2161, 3702, 3703, 2174, 2692, 648, 1676, 2700, 2193, 3729, 661, 151, 2716, 157, 3740, 3744, 673, 163, 3243, 1196, 1197, 1198, 3247, 3253, 1206, 1208, 1210, 1213, 1214, 1219, 1220, 1732, 1222, 1224, 2761, 1226, 3273, 2253, 3793, 216, 1240, 2268, 733, 223, 736, 2273, 3809, 231, 1256, 1258, 235, 2797, 1265, 1777, 2291, 1270, 1275, 1278, 1793, 1282, 260, 2826, 1291, 780, 1804, 1805, 1298, 2329, 2338, 804, 296, 2858, 2353, 2872, 3386, 316, 2366, 1348, 333, 2387, 2899, 2389, 2395, 349, 1377, 356, 2916, 2406, 362, 2414, 367, 3439, 3440, 3441, 1396, 3448, 3450, 2427, 1408, 1920, 2944, 2947, 2948, 2949, 1927, 2959, 2450, 919, 3479, 923, 2459, 3489, 1954, 1445, 2470, 423, 4006, 2985, 2987, 940, 2478, 943, 1967, 2991, 2993, 2997, 441, 954, 2492, 1473, 5060, 2502, 3527, 457, 2000, 2005, 3033, 3034, 1500, 2012, 480, 2528, 2018, 2529, 2028, 1517, 2542, 3052, 3053, 1009, 2033, 500, 3062, 3578, 2046, 1023}\n",
            "{2396, 2324, 1246}\n",
            "{2396, 2324, 1246}\n"
          ],
          "name": "stdout"
        }
      ]
    },
    {
      "cell_type": "code",
      "metadata": {
        "id": "byHy9hVgt2OC",
        "colab": {
          "base_uri": "https://localhost:8080/"
        },
        "outputId": "1c646eed-0774-418e-be8b-1686f09e1bc1"
      },
      "source": [
        "def get_recommendation(source, opponent_indices, df):\n",
        "  # userId==sourceの視聴映画id\n",
        "  source_indices = set(df.loc[source][df.loc[source].notnull()].index)\n",
        "\n",
        "  # 対象ユーザの高評価映画id\n",
        "  opponent_indices = set(opponent_indices)\n",
        "\n",
        "  # 高評価idのうち、userId==sourceがまだ視聴していないid\n",
        "  recommend_indices = opponent_indices - source_indices\n",
        "  return recommend_indices\n",
        "\n",
        "userId = 1\n",
        "opponent = 383\n",
        "opponent_indices, values = get_top_movies(opponent, df)\n",
        "recommend_indices = get_recommendation(userId, opponent_indices, df)\n",
        "print(recommend_indices)\n",
        "\n",
        "userId = 1\n",
        "opponent = 388\n",
        "opponent_indices, values = get_top_movies(opponent, df)\n",
        "recommend_indices = get_recommendation(userId, opponent_indices, df)\n",
        "print(recommend_indices)\n"
      ],
      "execution_count": 111,
      "outputs": [
        {
          "output_type": "stream",
          "text": [
            "{2396, 2324, 1246}\n",
            "{8360, 4306, 33615}\n"
          ],
          "name": "stdout"
        }
      ]
    }
  ]
}