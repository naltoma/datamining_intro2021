{
 "cells": [
  {
   "cell_type": "markdown",
   "metadata": {},
   "source": [
    "# Example for Linear Regression\n",
    "- story (Procedure of applied ML)\n",
    "    - Preparation\n",
    "        - Make the purpose (goal) clear.\n",
    "        - Make the task concrete.\n",
    "        - Check the possibilities to replace the existing services.\n",
    "    - Prepare the dataset\n",
    "    - Select a model\n",
    "    - Continue learning, evaluation and tuning\n",
    "- ref.\n",
    "    - [Linear Regression Example](https://scikit-learn.org/stable/auto_examples/linear_model/plot_ols.html#sphx-glr-auto-examples-linear-model-plot-ols-py)"
   ]
  },
  {
   "cell_type": "code",
   "execution_count": 1,
   "metadata": {},
   "outputs": [
    {
     "name": "stdout",
     "output_type": "stream",
     "text": [
      "<class 'numpy.ndarray'>\n",
      "(442, 10)\n",
      "[[ 0.03807591  0.05068012  0.06169621  0.02187235 -0.0442235  -0.03482076\n",
      "  -0.04340085 -0.00259226  0.01990842 -0.01764613]\n",
      " [-0.00188202 -0.04464164 -0.05147406 -0.02632783 -0.00844872 -0.01916334\n",
      "   0.07441156 -0.03949338 -0.06832974 -0.09220405]\n",
      " [ 0.08529891  0.05068012  0.04445121 -0.00567061 -0.04559945 -0.03419447\n",
      "  -0.03235593 -0.00259226  0.00286377 -0.02593034]\n",
      " [-0.08906294 -0.04464164 -0.01159501 -0.03665645  0.01219057  0.02499059\n",
      "  -0.03603757  0.03430886  0.02269202 -0.00936191]\n",
      " [ 0.00538306 -0.04464164 -0.03638469  0.02187235  0.00393485  0.01559614\n",
      "   0.00814208 -0.00259226 -0.03199144 -0.04664087]]\n",
      "['age', 'sex', 'bmi', 'bp', 's1', 's2', 's3', 's4', 's5', 's6']\n"
     ]
    }
   ],
   "source": [
    "# Prepare the dataset\n",
    "# Load the diabetes dataset\n",
    "# ref. https://scikit-learn.org/stable/datasets/index.html#diabetes-dataset\n",
    "\n",
    "from sklearn import datasets\n",
    "diabetes = datasets.load_diabetes()\n",
    "\n",
    "orig_X = diabetes.data # get a feature matrix (input dataset)\n",
    "print(type(orig_X))    # check the type\n",
    "print(orig_X.shape)    # check the size of feature matrix\n",
    "print(orig_X[:5])      # display the first 5 samples\n",
    "print(diabetes.feature_names)    # display the name of each element of feature"
   ]
  },
  {
   "cell_type": "code",
   "execution_count": 2,
   "metadata": {},
   "outputs": [
    {
     "name": "stdout",
     "output_type": "stream",
     "text": [
      "(442, 1)\n",
      "[[ 0.06169621]\n",
      " [-0.05147406]\n",
      " [ 0.04445121]\n",
      " [-0.01159501]\n",
      " [-0.03638469]]\n"
     ]
    }
   ],
   "source": [
    "# Here, use just one feature 'bmi' for simple exercise\n",
    "import numpy as np\n",
    "X = diabetes.data[:, np.newaxis, 2]\n",
    "print(X.shape)\n",
    "print(X[:5])"
   ]
  },
  {
   "cell_type": "code",
   "execution_count": 3,
   "metadata": {},
   "outputs": [
    {
     "name": "stdout",
     "output_type": "stream",
     "text": [
      "(442,)\n",
      "[151.  75. 141. 206. 135.]\n"
     ]
    }
   ],
   "source": [
    "y = diabetes.target\n",
    "print(y.shape)\n",
    "print(y[:5])"
   ]
  },
  {
   "cell_type": "code",
   "execution_count": 4,
   "metadata": {},
   "outputs": [
    {
     "name": "stdout",
     "output_type": "stream",
     "text": [
      "(400, 1)\n",
      "(42, 1)\n",
      "(400,)\n",
      "(42,)\n"
     ]
    }
   ],
   "source": [
    "# split the dataset into training and testing set\n",
    "num_of_training = 400\n",
    "\n",
    "X_train = X[:num_of_training]\n",
    "X_test = X[num_of_training:]\n",
    "\n",
    "y_train = y[:num_of_training]\n",
    "y_test = y[num_of_training:]\n",
    "\n",
    "print(X_train.shape)\n",
    "print(X_test.shape)\n",
    "print(y_train.shape)\n",
    "print(y_test.shape)"
   ]
  },
  {
   "cell_type": "code",
   "execution_count": 5,
   "metadata": {},
   "outputs": [
    {
     "name": "stdout",
     "output_type": "stream",
     "text": [
      "[[196.51241167 175.        ]\n",
      " [109.98667708  93.        ]\n",
      " [121.31742804 168.        ]\n",
      " [245.95568858 275.        ]\n",
      " [204.75295782 293.        ]\n",
      " [270.67732703 281.        ]\n",
      " [ 75.99442421  72.        ]\n",
      " [241.8354155  140.        ]\n",
      " [104.83633574 189.        ]\n",
      " [141.91879342 181.        ]\n",
      " [126.46776938 209.        ]\n",
      " [208.8732309  136.        ]\n",
      " [234.62493762 261.        ]\n",
      " [152.21947611 113.        ]\n",
      " [159.42995399 131.        ]\n",
      " [161.49009053 174.        ]\n",
      " [229.47459628 257.        ]\n",
      " [221.23405012  55.        ]\n",
      " [129.55797419  84.        ]\n",
      " [100.71606266  42.        ]\n",
      " [118.22722323 146.        ]\n",
      " [168.70056841 212.        ]\n",
      " [227.41445974 233.        ]\n",
      " [115.13701842  91.        ]\n",
      " [163.55022706 111.        ]\n",
      " [114.10695016 152.        ]\n",
      " [120.28735977 120.        ]\n",
      " [158.39988572  67.        ]\n",
      " [237.71514243 310.        ]\n",
      " [121.31742804  94.        ]\n",
      " [ 98.65592612 183.        ]\n",
      " [123.37756458  66.        ]\n",
      " [205.78302609 173.        ]\n",
      " [ 95.56572131  72.        ]\n",
      " [154.27961264  49.        ]\n",
      " [130.58804246  64.        ]\n",
      " [ 82.17483382  48.        ]\n",
      " [171.79077322 178.        ]\n",
      " [137.79852034 104.        ]\n",
      " [137.79852034 132.        ]\n",
      " [190.33200206 220.        ]\n",
      " [ 83.20490209  57.        ]]\n"
     ]
    }
   ],
   "source": [
    "# Select a model\n",
    "# => Linear Regression\n",
    "\n",
    "from sklearn import linear_model\n",
    "\n",
    "# Create linear regression object\n",
    "regr = linear_model.LinearRegression()\n",
    "\n",
    "# Train the model using the training set\n",
    "regr.fit(X_train, y_train)\n",
    "\n",
    "# Make predictions using the testing set\n",
    "predicted = regr.predict(X_test)\n",
    "\n",
    "# Check the predictions vs true answer\n",
    "print(np.c_[predicted, y_test])"
   ]
  },
  {
   "cell_type": "code",
   "execution_count": 6,
   "metadata": {},
   "outputs": [
    {
     "name": "stdout",
     "output_type": "stream",
     "text": [
      "[ -21.51241167  -16.98667708   46.68257196   29.04431142   88.24704218\n",
      "   10.32267297   -3.99442421 -101.8354155    84.16366426   39.08120658\n",
      "   82.53223062  -72.8732309    26.37506238  -39.21947611  -28.42995399\n",
      "   12.50990947   27.52540372 -166.23405012  -45.55797419  -58.71606266\n",
      "   27.77277677   43.29943159    5.58554026  -24.13701842  -52.55022706\n",
      "   37.89304984   -0.28735977  -91.39988572   72.28485757  -27.31742804\n",
      "   84.34407388  -57.37756458  -32.78302609  -23.56572131 -105.27961264\n",
      "  -66.58804246  -34.17483382    6.20922678  -33.79852034   -5.79852034\n",
      "   29.66799794  -26.20490209]\n"
     ]
    }
   ],
   "source": [
    "# Check the differences (errors)\n",
    "print(y_test - predicted)"
   ]
  },
  {
   "cell_type": "code",
   "execution_count": 7,
   "metadata": {},
   "outputs": [
    {
     "name": "stdout",
     "output_type": "stream",
     "text": [
      "1890.1633693291935\n",
      "45.00388974593318\n"
     ]
    }
   ],
   "source": [
    "# Check the sum of absolute error\n",
    "print(sum(np.abs(y_test - predicted)))\n",
    "\n",
    "# MAE (Mean Absolute Error)\n",
    "print(sum(np.abs(y_test - predicted)) / len(X_test))"
   ]
  },
  {
   "cell_type": "code",
   "execution_count": 8,
   "metadata": {},
   "outputs": [
    {
     "data": {
      "image/png": "[encoded data removed]",
      "text/plain": [
       "<Figure size 720x720 with 1 Axes>"
      ]
     },
     "metadata": {
      "needs_background": "light"
     },
     "output_type": "display_data"
    }
   ],
   "source": [
    "# Plot testing set and predictions\n",
    "%matplotlib inline\n",
    "import matplotlib.pyplot as plt\n",
    "fig, ax = plt.subplots(1, 1, figsize=(10, 10))\n",
    "ax.scatter(X_test, y_test,  color='black', label='true data')\n",
    "ax.plot(X_test, predicted, color='blue', linewidth=3, label='predicted')\n",
    "ax.legend(loc='best', fontsize=20)\n",
    "ax.set_xlabel('bmi', fontsize=20)\n",
    "ax.set_ylabel('disease progression', fontsize=20)\n",
    "plt.show()\n"
   ]
  },
  {
   "cell_type": "code",
   "execution_count": 9,
   "metadata": {},
   "outputs": [
    {
     "name": "stdout",
     "output_type": "stream",
     "text": [
      "coefficients:  [955.70303385]\n",
      "intercept:  153.00018395675963\n"
     ]
    }
   ],
   "source": [
    "# Check the model (obtained parameters)\n",
    "print('coefficients: ', regr.coef_)\n",
    "print('intercept: ', regr.intercept_)"
   ]
  },
  {
   "cell_type": "code",
   "execution_count": null,
   "metadata": {},
   "outputs": [],
   "source": []
  }
 ],
 "metadata": {
  "kernelspec": {
   "display_name": "Python 3",
   "language": "python",
   "name": "python3"
  },
  "language_info": {
   "codemirror_mode": {
    "name": "ipython",
    "version": 3
   },
   "file_extension": ".py",
   "mimetype": "text/x-python",
   "name": "python",
   "nbconvert_exporter": "python",
   "pygments_lexer": "ipython3",
   "version": "3.9.1"
  }
 },
 "nbformat": 4,
 "nbformat_minor": 4
}
