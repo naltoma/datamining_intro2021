{
  "nbformat": 4,
  "nbformat_minor": 0,
  "metadata": {
    "colab": {
      "name": "graph_example.ipynb",
      "provenance": [],
      "collapsed_sections": []
    },
    "kernelspec": {
      "display_name": "Python 3",
      "name": "python3"
    },
    "language_info": {
      "name": "python"
    }
  },
  "cells": [
    {
      "cell_type": "markdown",
      "metadata": {
        "id": "6anJNPgZx4zJ"
      },
      "source": [
        "# グラフマイニングの例\n",
        "- データセット\n",
        "  - [social circles: Facebook](http://snap.stanford.edu/data/ego-Facebook.html)から facebook_combined.txt.zip を利用。\n",
        "  - graph1.txt, graph2.txt, graph_modularity_simple.txt: 小さなグラフ例\n",
        "- ツール等\n",
        "  - [Graphviz](https://www.graphviz.org/): ノードとエッジで構成されるグラフ描画ツール。\n",
        "  - [pygraphviz](https://pygraphviz.github.io/): GraphvizをPythonから使うためのラッパー。\n",
        "  - [networkx](https://networkx.github.io/): ネットワーク解析パッケージ。"
      ]
    },
    {
      "cell_type": "markdown",
      "metadata": {
        "id": "yu-0uyPqyz7w"
      },
      "source": [
        "## 環境構築"
      ]
    },
    {
      "cell_type": "code",
      "metadata": {
        "colab": {
          "base_uri": "https://localhost:8080/"
        },
        "id": "_F6U30TpltBr",
        "outputId": "a51f1b71-19d7-416d-ace4-0d82893c860b"
      },
      "source": [
        "!apt install libgraphviz-dev\n",
        "!pip install pygraphviz"
      ],
      "execution_count": 1,
      "outputs": [
        {
          "output_type": "stream",
          "text": [
            "Reading package lists... Done\n",
            "Building dependency tree       \n",
            "Reading state information... Done\n",
            "The following additional packages will be installed:\n",
            "  libgail-common libgail18 libgtk2.0-0 libgtk2.0-bin libgtk2.0-common\n",
            "  libgvc6-plugins-gtk libxdot4\n",
            "Suggested packages:\n",
            "  gvfs\n",
            "The following NEW packages will be installed:\n",
            "  libgail-common libgail18 libgraphviz-dev libgtk2.0-0 libgtk2.0-bin\n",
            "  libgtk2.0-common libgvc6-plugins-gtk libxdot4\n",
            "0 upgraded, 8 newly installed, 0 to remove and 39 not upgraded.\n",
            "Need to get 2,120 kB of archives.\n",
            "After this operation, 7,128 kB of additional disk space will be used.\n",
            "Get:1 http://archive.ubuntu.com/ubuntu bionic/main amd64 libgtk2.0-common all 2.24.32-1ubuntu1 [125 kB]\n",
            "Get:2 http://archive.ubuntu.com/ubuntu bionic/main amd64 libgtk2.0-0 amd64 2.24.32-1ubuntu1 [1,769 kB]\n",
            "Get:3 http://archive.ubuntu.com/ubuntu bionic/main amd64 libgail18 amd64 2.24.32-1ubuntu1 [14.2 kB]\n",
            "Get:4 http://archive.ubuntu.com/ubuntu bionic/main amd64 libgail-common amd64 2.24.32-1ubuntu1 [112 kB]\n",
            "Get:5 http://archive.ubuntu.com/ubuntu bionic/universe amd64 libxdot4 amd64 2.40.1-2 [15.7 kB]\n",
            "Get:6 http://archive.ubuntu.com/ubuntu bionic/universe amd64 libgvc6-plugins-gtk amd64 2.40.1-2 [18.2 kB]\n",
            "Get:7 http://archive.ubuntu.com/ubuntu bionic/universe amd64 libgraphviz-dev amd64 2.40.1-2 [57.3 kB]\n",
            "Get:8 http://archive.ubuntu.com/ubuntu bionic/main amd64 libgtk2.0-bin amd64 2.24.32-1ubuntu1 [7,536 B]\n",
            "Fetched 2,120 kB in 1s (1,456 kB/s)\n",
            "Selecting previously unselected package libgtk2.0-common.\n",
            "(Reading database ... 160772 files and directories currently installed.)\n",
            "Preparing to unpack .../0-libgtk2.0-common_2.24.32-1ubuntu1_all.deb ...\n",
            "Unpacking libgtk2.0-common (2.24.32-1ubuntu1) ...\n",
            "Selecting previously unselected package libgtk2.0-0:amd64.\n",
            "Preparing to unpack .../1-libgtk2.0-0_2.24.32-1ubuntu1_amd64.deb ...\n",
            "Unpacking libgtk2.0-0:amd64 (2.24.32-1ubuntu1) ...\n",
            "Selecting previously unselected package libgail18:amd64.\n",
            "Preparing to unpack .../2-libgail18_2.24.32-1ubuntu1_amd64.deb ...\n",
            "Unpacking libgail18:amd64 (2.24.32-1ubuntu1) ...\n",
            "Selecting previously unselected package libgail-common:amd64.\n",
            "Preparing to unpack .../3-libgail-common_2.24.32-1ubuntu1_amd64.deb ...\n",
            "Unpacking libgail-common:amd64 (2.24.32-1ubuntu1) ...\n",
            "Selecting previously unselected package libxdot4.\n",
            "Preparing to unpack .../4-libxdot4_2.40.1-2_amd64.deb ...\n",
            "Unpacking libxdot4 (2.40.1-2) ...\n",
            "Selecting previously unselected package libgvc6-plugins-gtk.\n",
            "Preparing to unpack .../5-libgvc6-plugins-gtk_2.40.1-2_amd64.deb ...\n",
            "Unpacking libgvc6-plugins-gtk (2.40.1-2) ...\n",
            "Selecting previously unselected package libgraphviz-dev.\n",
            "Preparing to unpack .../6-libgraphviz-dev_2.40.1-2_amd64.deb ...\n",
            "Unpacking libgraphviz-dev (2.40.1-2) ...\n",
            "Selecting previously unselected package libgtk2.0-bin.\n",
            "Preparing to unpack .../7-libgtk2.0-bin_2.24.32-1ubuntu1_amd64.deb ...\n",
            "Unpacking libgtk2.0-bin (2.24.32-1ubuntu1) ...\n",
            "Setting up libgtk2.0-common (2.24.32-1ubuntu1) ...\n",
            "Setting up libxdot4 (2.40.1-2) ...\n",
            "Setting up libgtk2.0-0:amd64 (2.24.32-1ubuntu1) ...\n",
            "Setting up libgail18:amd64 (2.24.32-1ubuntu1) ...\n",
            "Setting up libgail-common:amd64 (2.24.32-1ubuntu1) ...\n",
            "Setting up libgvc6-plugins-gtk (2.40.1-2) ...\n",
            "Setting up libgraphviz-dev (2.40.1-2) ...\n",
            "Setting up libgtk2.0-bin (2.24.32-1ubuntu1) ...\n",
            "Processing triggers for man-db (2.8.3-2ubuntu0.1) ...\n",
            "Processing triggers for libc-bin (2.27-3ubuntu1.2) ...\n",
            "/sbin/ldconfig.real: /usr/local/lib/python3.7/dist-packages/ideep4py/lib/libmkldnn.so.0 is not a symbolic link\n",
            "\n",
            "Collecting pygraphviz\n",
            "\u001b[?25l  Downloading https://files.pythonhosted.org/packages/3a/d6/2c56f09ee83dbebb62c40487e4c972135661b9984fec9b30b77fb497090c/pygraphviz-1.7.zip (118kB)\n",
            "\u001b[K     |████████████████████████████████| 122kB 7.9MB/s \n",
            "\u001b[?25hBuilding wheels for collected packages: pygraphviz\n",
            "  Building wheel for pygraphviz (setup.py) ... \u001b[?25l\u001b[?25hdone\n",
            "  Created wheel for pygraphviz: filename=pygraphviz-1.7-cp37-cp37m-linux_x86_64.whl size=166142 sha256=6bbbb96a20c7c22804e6b3f842eb5a71b5a652364c064af09c58727fae084d8b\n",
            "  Stored in directory: /root/.cache/pip/wheels/32/59/00/14934a4292c4359eeabcdbf90f33d309b55d0f1be8a1262523\n",
            "Successfully built pygraphviz\n",
            "Installing collected packages: pygraphviz\n",
            "Successfully installed pygraphviz-1.7\n"
          ],
          "name": "stdout"
        }
      ]
    },
    {
      "cell_type": "code",
      "metadata": {
        "id": "kVEGEdS0ytAk"
      },
      "source": [
        "import pandas as pd\n",
        "import networkx as nx\n",
        "import pygraphviz\n",
        "import matplotlib.pyplot as plt"
      ],
      "execution_count": 2,
      "outputs": []
    },
    {
      "cell_type": "markdown",
      "metadata": {
        "id": "xtsOL96B11iw"
      },
      "source": [
        "## やや大きめの実データを用いたグラフ化例\n",
        "- facebook_combined.txt には「どのノード間にエッジがあるか」というリンク情報が保存されている。例えば「0 1」という行なら「ノード0とノード1の間にエッジがある」ことを意味している。\n",
        "- このままではグラフではないため、データを一度DataFrameとして読み込み、それを from_edges_to_networks() によりグラフに変換する。"
      ]
    },
    {
      "cell_type": "markdown",
      "metadata": {
        "id": "H6u1cNaV1LLC"
      },
      "source": [
        "### データ準備（facebook_combined.txt）"
      ]
    },
    {
      "cell_type": "code",
      "metadata": {
        "colab": {
          "base_uri": "https://localhost:8080/"
        },
        "id": "QX2Gu9aOxjh4",
        "outputId": "acb7772f-461e-4dd3-aa73-fbeea38a5e80"
      },
      "source": [
        "!curl -O http://snap.stanford.edu/data/facebook_combined.txt.gz\n",
        "!gzip -d facebook_combined.txt.gz"
      ],
      "execution_count": 3,
      "outputs": [
        {
          "output_type": "stream",
          "text": [
            "  % Total    % Received % Xferd  Average Speed   Time    Time     Time  Current\n",
            "                                 Dload  Upload   Total   Spent    Left  Speed\n",
            "100  213k  100  213k    0     0   808k      0 --:--:-- --:--:-- --:--:--  808k\n"
          ],
          "name": "stdout"
        }
      ]
    },
    {
      "cell_type": "code",
      "metadata": {
        "colab": {
          "base_uri": "https://localhost:8080/"
        },
        "id": "ZJ8TW3jkxs_g",
        "outputId": "31c6c2cc-06ee-49e2-e19e-a2b5e78506d3"
      },
      "source": [
        "!head facebook_combined.txt"
      ],
      "execution_count": 4,
      "outputs": [
        {
          "output_type": "stream",
          "text": [
            "0 1\n",
            "0 2\n",
            "0 3\n",
            "0 4\n",
            "0 5\n",
            "0 6\n",
            "0 7\n",
            "0 8\n",
            "0 9\n",
            "0 10\n"
          ],
          "name": "stdout"
        }
      ]
    },
    {
      "cell_type": "code",
      "metadata": {
        "colab": {
          "base_uri": "https://localhost:8080/",
          "height": 204
        },
        "id": "U0bnzFpGyJIe",
        "outputId": "8097d07c-5009-4012-9c76-36bbe209efcf"
      },
      "source": [
        "filename = \"facebook_combined.txt\"\n",
        "df = pd.read_csv(filename, sep=' ')\n",
        "df[:5]"
      ],
      "execution_count": 5,
      "outputs": [
        {
          "output_type": "execute_result",
          "data": {
            "text/html": [
              "<div>\n",
              "<style scoped>\n",
              "    .dataframe tbody tr th:only-of-type {\n",
              "        vertical-align: middle;\n",
              "    }\n",
              "\n",
              "    .dataframe tbody tr th {\n",
              "        vertical-align: top;\n",
              "    }\n",
              "\n",
              "    .dataframe thead th {\n",
              "        text-align: right;\n",
              "    }\n",
              "</style>\n",
              "<table border=\"1\" class=\"dataframe\">\n",
              "  <thead>\n",
              "    <tr style=\"text-align: right;\">\n",
              "      <th></th>\n",
              "      <th>0</th>\n",
              "      <th>1</th>\n",
              "    </tr>\n",
              "  </thead>\n",
              "  <tbody>\n",
              "    <tr>\n",
              "      <th>0</th>\n",
              "      <td>0</td>\n",
              "      <td>2</td>\n",
              "    </tr>\n",
              "    <tr>\n",
              "      <th>1</th>\n",
              "      <td>0</td>\n",
              "      <td>3</td>\n",
              "    </tr>\n",
              "    <tr>\n",
              "      <th>2</th>\n",
              "      <td>0</td>\n",
              "      <td>4</td>\n",
              "    </tr>\n",
              "    <tr>\n",
              "      <th>3</th>\n",
              "      <td>0</td>\n",
              "      <td>5</td>\n",
              "    </tr>\n",
              "    <tr>\n",
              "      <th>4</th>\n",
              "      <td>0</td>\n",
              "      <td>6</td>\n",
              "    </tr>\n",
              "  </tbody>\n",
              "</table>\n",
              "</div>"
            ],
            "text/plain": [
              "   0  1\n",
              "0  0  2\n",
              "1  0  3\n",
              "2  0  4\n",
              "3  0  5\n",
              "4  0  6"
            ]
          },
          "metadata": {
            "tags": []
          },
          "execution_count": 5
        }
      ]
    },
    {
      "cell_type": "code",
      "metadata": {
        "colab": {
          "base_uri": "https://localhost:8080/"
        },
        "id": "8rmYhUnixuSU",
        "outputId": "1b470d01-ff2e-4bdd-e4dc-c7dc1c98953f"
      },
      "source": [
        "# エッジ数の確認（上位10件）\n",
        "\n",
        "counts = df['0'].value_counts()\n",
        "counts[:10]"
      ],
      "execution_count": 6,
      "outputs": [
        {
          "output_type": "execute_result",
          "data": {
            "text/plain": [
              "107     1043\n",
              "1684     778\n",
              "1912     748\n",
              "3437     542\n",
              "0        346\n",
              "348      225\n",
              "1941     215\n",
              "1985     207\n",
              "483      191\n",
              "1917     189\n",
              "Name: 0, dtype: int64"
            ]
          },
          "metadata": {
            "tags": []
          },
          "execution_count": 6
        }
      ]
    },
    {
      "cell_type": "markdown",
      "metadata": {
        "id": "ycNeAbaI1h1x"
      },
      "source": [
        "### エッジ集合のDataFrameからグラフに変換"
      ]
    },
    {
      "cell_type": "code",
      "metadata": {
        "colab": {
          "base_uri": "https://localhost:8080/"
        },
        "id": "4TFyA2N0yWM-",
        "outputId": "94b2bab0-73dd-4f23-ef21-10e610733fa0"
      },
      "source": [
        "# グラフ変換\n",
        "\n",
        "def from_edges_to_networks(filename):\n",
        "    \"\"\"グラフ読み込み\n",
        "    Graphvizのラッパーであるpygraphvizにデータを渡すため、\n",
        "    netoworkx.Graph()へノードとエッジ集合を読み込む。\n",
        "    \"\"\"\n",
        "    G = nx.Graph()\n",
        "    with open(filename) as fh:\n",
        "        for line in fh:\n",
        "            edges = list(map(int, line.split(\" \")))\n",
        "            G.add_edge(edges[0], edges[1])\n",
        "    return G\n",
        "\n",
        "\n",
        "G = nx.read_edgelist(filename, nodetype=int)\n",
        "\n",
        "# ノード数、エッジ数の確認\n",
        "print(nx.number_of_nodes(G), nx.number_of_edges(G))"
      ],
      "execution_count": 7,
      "outputs": [
        {
          "output_type": "stream",
          "text": [
            "4039 88234\n"
          ],
          "name": "stdout"
        }
      ]
    },
    {
      "cell_type": "markdown",
      "metadata": {
        "id": "KQuZP7iT2sc3"
      },
      "source": [
        "### グラフ描画\n",
        "直接描画することが困難なサイズなので、一度ファイルに保存し、それを縮小したものを描画している。"
      ]
    },
    {
      "cell_type": "code",
      "metadata": {
        "colab": {
          "base_uri": "https://localhost:8080/",
          "height": 319
        },
        "id": "2Y-whLRazeqi",
        "outputId": "23751939-1363-4b6b-d99c-718b6ba8ca60"
      },
      "source": [
        "# そのまま描画すると潰れてしまう、、\n",
        "nx.draw(G)"
      ],
      "execution_count": 8,
      "outputs": [
        {
          "output_type": "display_data",
          "data": {
            "image/png": "[encoded data removed]",
            "text/plain": [
              "<Figure size 432x288 with 1 Axes>"
            ]
          },
          "metadata": {
            "tags": []
          }
        }
      ]
    },
    {
      "cell_type": "code",
      "metadata": {
        "colab": {
          "base_uri": "https://localhost:8080/",
          "height": 273
        },
        "id": "h7VjOBpzi3rp",
        "outputId": "3d4472c4-0999-4c85-cff9-03ca541fb504"
      },
      "source": [
        "# save graph\n",
        "\n",
        "pos = nx.nx_agraph.pygraphviz_layout(G, prog='sfdp', args='-Goverlap=false -Tpng -o facebook.png')\n",
        "\n",
        "\n",
        "from PIL import Image\n",
        "from IPython.display import display\n",
        "\n",
        "img = Image.open(\"facebook.png\")\n",
        "img_resize = img.resize((256,256)) # 画像リサイズ\n",
        "img_resize.save(\"facebook_s.png\")\n",
        "\n",
        "with Image.open(\"facebook_s.png\") as im:\n",
        "  display(im)"
      ],
      "execution_count": 9,
      "outputs": [
        {
          "output_type": "display_data",
          "data": {
            "image/png": "[encoded data removed]",
            "text/plain": [
              "<PIL.PngImagePlugin.PngImageFile image mode=RGB size=256x256 at 0x7F1E9F9F2990>"
            ]
          },
          "metadata": {
            "tags": []
          }
        }
      ]
    },
    {
      "cell_type": "markdown",
      "metadata": {
        "id": "YLn_ymS93HfQ"
      },
      "source": [
        "### ネットワーク分析例\n",
        "- エッジ数をカウントし、エッジ数あたりの出現回数を描画。\n",
        "- 上記をlog-scaleで描画。"
      ]
    },
    {
      "cell_type": "code",
      "metadata": {
        "colab": {
          "base_uri": "https://localhost:8080/",
          "height": 295
        },
        "id": "MLJcSVnENSqb",
        "outputId": "e4787121-d6e2-42a3-cfe3-aa9c73760d4a"
      },
      "source": [
        "# degree distribution\n",
        "# normal scale\n",
        "\n",
        "import collections\n",
        "\n",
        "# ノード毎に有するエッジ数をカウント\n",
        "count = []\n",
        "for index_of_node in G.adj:\n",
        "    count.append(len(G.adj[index_of_node]))\n",
        "\n",
        "count.sort()\n",
        "temp = collections.Counter(count)\n",
        "\n",
        "# エッジ数あたりの出現回数をカウント\n",
        "degree, freq = zip(*temp.items())\n",
        "\n",
        "plt.scatter(degree, freq, s=5)\n",
        "plt.xlim(0, max(degree))\n",
        "plt.ylim(0, max(freq))\n",
        "plt.xlabel('degree')\n",
        "plt.ylabel('freq')\n",
        "plt.title(filename + ' (degree x freq)')\n",
        "plt.show()"
      ],
      "execution_count": 10,
      "outputs": [
        {
          "output_type": "display_data",
          "data": {
            "image/png": "[encoded data removed]",
            "text/plain": [
              "<Figure size 432x288 with 1 Axes>"
            ]
          },
          "metadata": {
            "tags": [],
            "needs_background": "light"
          }
        }
      ]
    },
    {
      "cell_type": "code",
      "metadata": {
        "colab": {
          "base_uri": "https://localhost:8080/",
          "height": 299
        },
        "id": "MzJq6v1rfrrk",
        "outputId": "5cb30205-ff56-40c3-94e2-f63dc68654aa"
      },
      "source": [
        "# log scale\n",
        "plt.scatter(degree, freq, s=5)\n",
        "plt.xscale('log')\n",
        "plt.yscale('log')\n",
        "plt.xlabel('degree (log10 scale)')\n",
        "plt.ylabel('freq (log10 scale)')\n",
        "plt.title(filename + ' (degree x freq) in log-scale')\n",
        "plt.show()"
      ],
      "execution_count": 11,
      "outputs": [
        {
          "output_type": "display_data",
          "data": {
            "image/png": "[encoded data removed]",
            "text/plain": [
              "<Figure size 432x288 with 1 Axes>"
            ]
          },
          "metadata": {
            "tags": [],
            "needs_background": "light"
          }
        }
      ]
    },
    {
      "cell_type": "markdown",
      "metadata": {
        "id": "Xlj_1Aqc58yW"
      },
      "source": [
        "### Zipfの法則っぽさを確認"
      ]
    },
    {
      "cell_type": "code",
      "metadata": {
        "colab": {
          "base_uri": "https://localhost:8080/"
        },
        "id": "eW7jF3lt3462",
        "outputId": "a3ee727d-8423-4e43-9cb3-d343dabff7f4"
      },
      "source": [
        "zipf_values = []\n",
        "for i in range(10,50):\n",
        "  value = i * freq[i]\n",
        "  zipf_values.append(value)\n",
        "\n",
        "zipf_values"
      ],
      "execution_count": 12,
      "outputs": [
        {
          "output_type": "execute_result",
          "data": {
            "text/plain": [
              "[810,\n",
              " 902,\n",
              " 948,\n",
              " 1131,\n",
              " 1484,\n",
              " 1230,\n",
              " 1216,\n",
              " 1241,\n",
              " 1296,\n",
              " 1197,\n",
              " 1040,\n",
              " 1323,\n",
              " 1166,\n",
              " 1380,\n",
              " 1320,\n",
              " 1400,\n",
              " 1274,\n",
              " 999,\n",
              " 1064,\n",
              " 1160,\n",
              " 1140,\n",
              " 1364,\n",
              " 1120,\n",
              " 1419,\n",
              " 1224,\n",
              " 1505,\n",
              " 1548,\n",
              " 1628,\n",
              " 1102,\n",
              " 1053,\n",
              " 1160,\n",
              " 861,\n",
              " 1218,\n",
              " 903,\n",
              " 836,\n",
              " 1080,\n",
              " 1104,\n",
              " 1128,\n",
              " 1584,\n",
              " 1225]"
            ]
          },
          "metadata": {
            "tags": []
          },
          "execution_count": 12
        }
      ]
    },
    {
      "cell_type": "code",
      "metadata": {
        "colab": {
          "base_uri": "https://localhost:8080/",
          "height": 282
        },
        "id": "QwStzlAz56tp",
        "outputId": "029ad0f5-e5e7-41e6-df5b-1587c56e39f1"
      },
      "source": [
        "df = pd.DataFrame(zipf_values)\n",
        "df.plot(kind='box')"
      ],
      "execution_count": 13,
      "outputs": [
        {
          "output_type": "execute_result",
          "data": {
            "text/plain": [
              "<matplotlib.axes._subplots.AxesSubplot at 0x7f1ea0316f10>"
            ]
          },
          "metadata": {
            "tags": []
          },
          "execution_count": 13
        },
        {
          "output_type": "display_data",
          "data": {
            "image/png": "[encoded data removed]",
            "text/plain": [
              "<Figure size 432x288 with 1 Axes>"
            ]
          },
          "metadata": {
            "tags": [],
            "needs_background": "light"
          }
        }
      ]
    },
    {
      "cell_type": "markdown",
      "metadata": {
        "id": "P4lGSEis6Gqo"
      },
      "source": [
        "## ページランクの例"
      ]
    },
    {
      "cell_type": "markdown",
      "metadata": {
        "id": "45bxAo3T6Mbz"
      },
      "source": [
        "### データセットの用意"
      ]
    },
    {
      "cell_type": "code",
      "metadata": {
        "colab": {
          "base_uri": "https://localhost:8080/"
        },
        "id": "drFb2AssfukA",
        "outputId": "e68dc171-d4f1-4d50-9aa9-28b78d9c87f4"
      },
      "source": [
        "!curl -O https://raw.githubusercontent.com/naltoma/datamining_intro/master/4-casestudy/graph/graph1.txt\n",
        "!curl -O https://raw.githubusercontent.com/naltoma/datamining_intro/master/4-casestudy/graph/graph2.txt\n",
        "!ls"
      ],
      "execution_count": 14,
      "outputs": [
        {
          "output_type": "stream",
          "text": [
            "  % Total    % Received % Xferd  Average Speed   Time    Time     Time  Current\n",
            "                                 Dload  Upload   Total   Spent    Left  Speed\n",
            "100    20  100    20    0     0    124      0 --:--:-- --:--:-- --:--:--   124\n",
            "  % Total    % Received % Xferd  Average Speed   Time    Time     Time  Current\n",
            "                                 Dload  Upload   Total   Spent    Left  Speed\n",
            "100   122  100   122    0     0    734      0 --:--:-- --:--:-- --:--:--   734\n",
            "facebook_combined.txt  facebook_s.png  graph2.txt\n",
            "facebook.png\t       graph1.txt      sample_data\n"
          ],
          "name": "stdout"
        }
      ]
    },
    {
      "cell_type": "code",
      "metadata": {
        "colab": {
          "base_uri": "https://localhost:8080/"
        },
        "id": "kEzQln9HgFn2",
        "outputId": "653f3331-425d-4578-b66d-ea434fded9e3"
      },
      "source": [
        "!cat graph1.txt"
      ],
      "execution_count": 15,
      "outputs": [
        {
          "output_type": "stream",
          "text": [
            "A B\n",
            "A C\n",
            "B C\n",
            "C A\n",
            "D C\n"
          ],
          "name": "stdout"
        }
      ]
    },
    {
      "cell_type": "markdown",
      "metadata": {
        "id": "JAuA96886TZo"
      },
      "source": [
        "### ランダムサーファーモデルによるシミュレーション"
      ]
    },
    {
      "cell_type": "code",
      "metadata": {
        "colab": {
          "base_uri": "https://localhost:8080/"
        },
        "id": "3nVVhVzHNpnT",
        "outputId": "a9f2bf29-7cb3-49c6-bf8a-7579c4e9d082"
      },
      "source": [
        "import random\n",
        "\n",
        "def random_surfer(G, max_itr=1000, d=0.15):\n",
        "    \"\"\"ランダムサーファーモデルのシミュレーション。\n",
        "    ランダムなノードから出発し、そのページのout-edgesをランダムに選択して移動する。\n",
        "    ただし、確率dでページ遷移を辞め、無作為にノードを選んで再出発する。\n",
        "\n",
        "    :param G: networkx.classes.digraph.DiGraph。有向グラフ。\n",
        "    :param max_itr: ページ遷移回数。\n",
        "    :param d: エッジ選択から離脱する確率。\n",
        "    :return: 各ノードの訪問割合。\n",
        "    \"\"\"\n",
        "    num = len(nx.nodes(G))\n",
        "    nodes = list(nx.nodes(G))\n",
        "    reached = {}\n",
        "    count = 0\n",
        "    current = random.choice(nodes)\n",
        "    while True:\n",
        "        if current in reached:\n",
        "            reached[current] += 1\n",
        "        else:\n",
        "            reached.update({current:1})\n",
        "        count += 1\n",
        "        if count == max_itr:\n",
        "            break\n",
        "        if d < random.random():\n",
        "            targets = [target for cur, target in nx.edges(G, current)]\n",
        "            if len(targets) == 0:\n",
        "                break\n",
        "            current = random.choice(targets)\n",
        "        else:\n",
        "            current = random.choice(nodes)\n",
        "            continue\n",
        "        print(count,reached)\n",
        "\n",
        "    for node in reached.keys():\n",
        "        reached[node] /= count\n",
        "    return reached\n",
        "\n",
        "\n",
        "filename = \"graph1.txt\"\n",
        "G = nx.read_edgelist(filename, create_using=nx.DiGraph())\n",
        "reached = random_surfer(G, 20)\n",
        "print(reached)"
      ],
      "execution_count": 16,
      "outputs": [
        {
          "output_type": "stream",
          "text": [
            "2 {'A': 1, 'D': 1}\n",
            "3 {'A': 1, 'D': 1, 'C': 1}\n",
            "4 {'A': 2, 'D': 1, 'C': 1}\n",
            "5 {'A': 2, 'D': 1, 'C': 1, 'B': 1}\n",
            "6 {'A': 2, 'D': 1, 'C': 2, 'B': 1}\n",
            "7 {'A': 3, 'D': 1, 'C': 2, 'B': 1}\n",
            "8 {'A': 3, 'D': 1, 'C': 2, 'B': 2}\n",
            "9 {'A': 3, 'D': 1, 'C': 3, 'B': 2}\n",
            "10 {'A': 4, 'D': 1, 'C': 3, 'B': 2}\n",
            "11 {'A': 4, 'D': 1, 'C': 4, 'B': 2}\n",
            "12 {'A': 5, 'D': 1, 'C': 4, 'B': 2}\n",
            "13 {'A': 5, 'D': 1, 'C': 5, 'B': 2}\n",
            "15 {'A': 7, 'D': 1, 'C': 5, 'B': 2}\n",
            "16 {'A': 7, 'D': 1, 'C': 6, 'B': 2}\n",
            "17 {'A': 8, 'D': 1, 'C': 6, 'B': 2}\n",
            "18 {'A': 8, 'D': 1, 'C': 7, 'B': 2}\n",
            "19 {'A': 9, 'D': 1, 'C': 7, 'B': 2}\n",
            "{'A': 0.45, 'D': 0.05, 'C': 0.35, 'B': 0.15}\n"
          ],
          "name": "stdout"
        }
      ]
    },
    {
      "cell_type": "markdown",
      "metadata": {
        "id": "2GSOtYdR6WzS"
      },
      "source": [
        "### networkx.pagerankによるランク評価"
      ]
    },
    {
      "cell_type": "code",
      "metadata": {
        "colab": {
          "base_uri": "https://localhost:8080/"
        },
        "id": "Q14xTWM6gO_D",
        "outputId": "3e91e9c4-e619-4685-a1fd-b2bf8bdcc283"
      },
      "source": [
        "filename = \"graph1.txt\"\n",
        "G = nx.read_edgelist(filename, create_using=nx.DiGraph())\n",
        "\n",
        "# ランク算出\n",
        "pr = nx.pagerank(G)\n",
        "print(pr)"
      ],
      "execution_count": 17,
      "outputs": [
        {
          "output_type": "stream",
          "text": [
            "{'A': 0.372526246091333, 'B': 0.19582365458881654, 'C': 0.39415009931985023, 'D': 0.037500000000000006}\n"
          ],
          "name": "stdout"
        }
      ]
    },
    {
      "cell_type": "markdown",
      "metadata": {
        "id": "dMtQia1D6f1c"
      },
      "source": [
        "### グラフ描画"
      ]
    },
    {
      "cell_type": "code",
      "metadata": {
        "colab": {
          "base_uri": "https://localhost:8080/",
          "height": 342
        },
        "id": "SlETdeDqwjx0",
        "outputId": "78b2cec9-35d4-4f00-b998-0592d85cc6e1"
      },
      "source": [
        "# グラフ描画\n",
        "pos = nx.spring_layout(G)\n",
        "labels = {}\n",
        "for node in pr.keys():\n",
        "    labels[node] = 'Node {}\\n{}'.format(node, round(pr[node], 3))\n",
        "\n",
        "G = nx.relabel_nodes(G, labels)\n",
        "\n",
        "import graphviz\n",
        "graphviz.Source(nx.nx_agraph.to_agraph(G))"
      ],
      "execution_count": 18,
      "outputs": [
        {
          "output_type": "execute_result",
          "data": {
            "text/plain": [
              "<graphviz.files.Source at 0x7f1e95a3c990>"
            ],
            "image/svg+xml": "<?xml version=\"1.0\" encoding=\"UTF-8\" standalone=\"no\"?>\n<!DOCTYPE svg PUBLIC \"-//W3C//DTD SVG 1.1//EN\"\n \"http://www.w3.org/Graphics/SVG/1.1/DTD/svg11.dtd\">\n<!-- Generated by graphviz version 2.40.1 (20161225.0304)\n -->\n<!-- Pages: 1 -->\n<svg width=\"258pt\" height=\"241pt\"\n viewBox=\"0.00 0.00 257.68 241.22\" xmlns=\"http://www.w3.org/2000/svg\" xmlns:xlink=\"http://www.w3.org/1999/xlink\">\n<g id=\"graph0\" class=\"graph\" transform=\"scale(1 1) rotate(0) translate(4 237.2203)\">\n<polygon fill=\"#ffffff\" stroke=\"transparent\" points=\"-4,4 -4,-237.2203 253.6812,-237.2203 253.6812,4 -4,4\"/>\n<!-- Node A\n0.373 -->\n<g id=\"node1\" class=\"node\">\n<title>Node A\n0.373</title>\n<ellipse fill=\"none\" stroke=\"#000000\" cx=\"124.8406\" cy=\"-206.3503\" rx=\"43.6818\" ry=\"26.7407\"/>\n<text text-anchor=\"middle\" x=\"124.8406\" y=\"-210.1503\" font-family=\"Times,serif\" font-size=\"14.00\" fill=\"#000000\">Node A</text>\n<text text-anchor=\"middle\" x=\"124.8406\" y=\"-195.1503\" font-family=\"Times,serif\" font-size=\"14.00\" fill=\"#000000\">0.373</text>\n</g>\n<!-- Node B\n0.196 -->\n<g id=\"node2\" class=\"node\">\n<title>Node B\n0.196</title>\n<ellipse fill=\"none\" stroke=\"#000000\" cx=\"43.8406\" cy=\"-116.6102\" rx=\"43.6818\" ry=\"26.7407\"/>\n<text text-anchor=\"middle\" x=\"43.8406\" y=\"-120.4102\" font-family=\"Times,serif\" font-size=\"14.00\" fill=\"#000000\">Node B</text>\n<text text-anchor=\"middle\" x=\"43.8406\" y=\"-105.4102\" font-family=\"Times,serif\" font-size=\"14.00\" fill=\"#000000\">0.196</text>\n</g>\n<!-- Node A\n0.373&#45;&gt;Node B\n0.196 -->\n<g id=\"edge1\" class=\"edge\">\n<title>Node A\n0.373&#45;&gt;Node B\n0.196</title>\n<path fill=\"none\" stroke=\"#000000\" d=\"M103.5588,-182.7721C93.9616,-172.1393 82.49,-159.43 72.178,-148.0053\"/>\n<polygon fill=\"#000000\" stroke=\"#000000\" points=\"74.56,-145.4206 65.2615,-140.3424 69.3637,-150.1109 74.56,-145.4206\"/>\n</g>\n<!-- Node C\n0.394 -->\n<g id=\"node3\" class=\"node\">\n<title>Node C\n0.394</title>\n<ellipse fill=\"none\" stroke=\"#000000\" cx=\"124.8406\" cy=\"-26.8701\" rx=\"43.6818\" ry=\"26.7407\"/>\n<text text-anchor=\"middle\" x=\"124.8406\" y=\"-30.6701\" font-family=\"Times,serif\" font-size=\"14.00\" fill=\"#000000\">Node C</text>\n<text text-anchor=\"middle\" x=\"124.8406\" y=\"-15.6701\" font-family=\"Times,serif\" font-size=\"14.00\" fill=\"#000000\">0.394</text>\n</g>\n<!-- Node A\n0.373&#45;&gt;Node C\n0.394 -->\n<g id=\"edge2\" class=\"edge\">\n<title>Node A\n0.373&#45;&gt;Node C\n0.394</title>\n<path fill=\"none\" stroke=\"#000000\" d=\"M119.8581,-179.4803C117.7201,-148.7281 117.5217,-98.1814 119.2631,-63.7565\"/>\n<polygon fill=\"#000000\" stroke=\"#000000\" points=\"122.7654,-63.8205 119.8658,-53.6302 115.7778,-63.4046 122.7654,-63.8205\"/>\n</g>\n<!-- Node B\n0.196&#45;&gt;Node C\n0.394 -->\n<g id=\"edge3\" class=\"edge\">\n<title>Node B\n0.196&#45;&gt;Node C\n0.394</title>\n<path fill=\"none\" stroke=\"#000000\" d=\"M65.1224,-93.032C74.7196,-82.3992 86.1912,-69.6899 96.5032,-58.2652\"/>\n<polygon fill=\"#000000\" stroke=\"#000000\" points=\"99.3175,-60.3708 103.4197,-50.6023 94.1212,-55.6805 99.3175,-60.3708\"/>\n</g>\n<!-- Node C\n0.394&#45;&gt;Node A\n0.373 -->\n<g id=\"edge4\" class=\"edge\">\n<title>Node C\n0.394&#45;&gt;Node A\n0.373</title>\n<path fill=\"none\" stroke=\"#000000\" d=\"M129.8154,-53.6302C131.9581,-84.3352 132.1611,-134.8775 130.4244,-169.3408\"/>\n<polygon fill=\"#000000\" stroke=\"#000000\" points=\"126.9213,-169.2906 129.8231,-179.4803 133.909,-169.705 126.9213,-169.2906\"/>\n</g>\n<!-- Node D\n0.038 -->\n<g id=\"node4\" class=\"node\">\n<title>Node D\n0.038</title>\n<ellipse fill=\"none\" stroke=\"#000000\" cx=\"205.8406\" cy=\"-116.6102\" rx=\"43.6818\" ry=\"26.7407\"/>\n<text text-anchor=\"middle\" x=\"205.8406\" y=\"-120.4102\" font-family=\"Times,serif\" font-size=\"14.00\" fill=\"#000000\">Node D</text>\n<text text-anchor=\"middle\" x=\"205.8406\" y=\"-105.4102\" font-family=\"Times,serif\" font-size=\"14.00\" fill=\"#000000\">0.038</text>\n</g>\n<!-- Node D\n0.038&#45;&gt;Node C\n0.394 -->\n<g id=\"edge5\" class=\"edge\">\n<title>Node D\n0.038&#45;&gt;Node C\n0.394</title>\n<path fill=\"none\" stroke=\"#000000\" d=\"M184.5588,-93.032C174.9616,-82.3992 163.49,-69.6899 153.178,-58.2652\"/>\n<polygon fill=\"#000000\" stroke=\"#000000\" points=\"155.56,-55.6805 146.2615,-50.6023 150.3637,-60.3708 155.56,-55.6805\"/>\n</g>\n</g>\n</svg>\n"
          },
          "metadata": {
            "tags": []
          },
          "execution_count": 18
        }
      ]
    },
    {
      "cell_type": "markdown",
      "metadata": {
        "id": "9hySNYco6ibV"
      },
      "source": [
        "## 少し複雑なグラフでページランク確認"
      ]
    },
    {
      "cell_type": "code",
      "metadata": {
        "id": "q0xDf-pnkgO-",
        "colab": {
          "base_uri": "https://localhost:8080/",
          "height": 1000
        },
        "outputId": "2a919ca4-2962-4251-b95e-fb4eb143fbfc"
      },
      "source": [
        "filename = \"graph2.txt\"\n",
        "G = nx.read_edgelist(filename, create_using=nx.DiGraph())\n",
        "\n",
        "# ランク算出\n",
        "pr = nx.pagerank(G)\n",
        "print(pr)\n",
        "\n",
        "# グラフ描画\n",
        "pos = nx.spring_layout(G)\n",
        "labels = {}\n",
        "for node in pr.keys():\n",
        "    labels[node] = 'Node {}\\n{}'.format(node, round(pr[node], 3))\n",
        "\n",
        "G = nx.relabel_nodes(G, labels)\n",
        "\n",
        "#nx.nx_agraph.view_pygraphviz(G, prog='sfdp')\n",
        "\n",
        "import graphviz\n",
        "graphviz.Source(nx.nx_agraph.to_agraph(G))\n",
        "#nx.draw_networkx(G)"
      ],
      "execution_count": 19,
      "outputs": [
        {
          "output_type": "stream",
          "text": [
            "{'1': 0.12174896105921995, '2': 0.04386978407256124, '3': 0.04386978407256124, '4': 0.04386978407256124, '5': 0.06530818443477784, '6': 0.10217580762337017, '7': 0.07144359556771177, '8': 0.05279920075611914, '15': 0.14450495559625123, '9': 0.03181526582418545, '10': 0.05885906219895707, '11': 0.02188284889175391, '12': 0.02188284889175391, '13': 0.02188284889175391, '14': 0.02188284889175391, '16': 0.13220421915470792}\n"
          ],
          "name": "stdout"
        },
        {
          "output_type": "execute_result",
          "data": {
            "text/plain": [
              "<graphviz.files.Source at 0x7f1ea06c5790>"
            ],
            "image/svg+xml": "<?xml version=\"1.0\" encoding=\"UTF-8\" standalone=\"no\"?>\n<!DOCTYPE svg PUBLIC \"-//W3C//DTD SVG 1.1//EN\"\n \"http://www.w3.org/Graphics/SVG/1.1/DTD/svg11.dtd\">\n<!-- Generated by graphviz version 2.40.1 (20161225.0304)\n -->\n<!-- Pages: 1 -->\n<svg width=\"508pt\" height=\"869pt\"\n viewBox=\"0.00 0.00 508.38 869.40\" xmlns=\"http://www.w3.org/2000/svg\" xmlns:xlink=\"http://www.w3.org/1999/xlink\">\n<g id=\"graph0\" class=\"graph\" transform=\"scale(1 1) rotate(0) translate(4 865.4012)\">\n<polygon fill=\"#ffffff\" stroke=\"transparent\" points=\"-4,4 -4,-865.4012 504.3762,-865.4012 504.3762,4 -4,4\"/>\n<!-- Node 1\n0.122 -->\n<g id=\"node1\" class=\"node\">\n<title>Node 1\n0.122</title>\n<ellipse fill=\"none\" stroke=\"#000000\" cx=\"395.3762\" cy=\"-834.5311\" rx=\"41.9398\" ry=\"26.7407\"/>\n<text text-anchor=\"middle\" x=\"395.3762\" y=\"-838.3311\" font-family=\"Times,serif\" font-size=\"14.00\" fill=\"#000000\">Node 1</text>\n<text text-anchor=\"middle\" x=\"395.3762\" y=\"-823.3311\" font-family=\"Times,serif\" font-size=\"14.00\" fill=\"#000000\">0.122</text>\n</g>\n<!-- Node 2\n0.044 -->\n<g id=\"node2\" class=\"node\">\n<title>Node 2\n0.044</title>\n<ellipse fill=\"none\" stroke=\"#000000\" cx=\"259.3762\" cy=\"-744.791\" rx=\"41.9398\" ry=\"26.7407\"/>\n<text text-anchor=\"middle\" x=\"259.3762\" y=\"-748.591\" font-family=\"Times,serif\" font-size=\"14.00\" fill=\"#000000\">Node 2</text>\n<text text-anchor=\"middle\" x=\"259.3762\" y=\"-733.591\" font-family=\"Times,serif\" font-size=\"14.00\" fill=\"#000000\">0.044</text>\n</g>\n<!-- Node 1\n0.122&#45;&gt;Node 2\n0.044 -->\n<g id=\"edge1\" class=\"edge\">\n<title>Node 1\n0.122&#45;&gt;Node 2\n0.044</title>\n<path fill=\"none\" stroke=\"#000000\" d=\"M366.2007,-815.2796C346.0811,-802.0036 319.142,-784.2277 297.3505,-769.8485\"/>\n<polygon fill=\"#000000\" stroke=\"#000000\" points=\"299.2469,-766.9066 288.9726,-764.3203 295.3916,-772.7492 299.2469,-766.9066\"/>\n</g>\n<!-- Node 3\n0.044 -->\n<g id=\"node3\" class=\"node\">\n<title>Node 3\n0.044</title>\n<ellipse fill=\"none\" stroke=\"#000000\" cx=\"360.3762\" cy=\"-744.791\" rx=\"41.9398\" ry=\"26.7407\"/>\n<text text-anchor=\"middle\" x=\"360.3762\" y=\"-748.591\" font-family=\"Times,serif\" font-size=\"14.00\" fill=\"#000000\">Node 3</text>\n<text text-anchor=\"middle\" x=\"360.3762\" y=\"-733.591\" font-family=\"Times,serif\" font-size=\"14.00\" fill=\"#000000\">0.044</text>\n</g>\n<!-- Node 1\n0.122&#45;&gt;Node 3\n0.044 -->\n<g id=\"edge2\" class=\"edge\">\n<title>Node 1\n0.122&#45;&gt;Node 3\n0.044</title>\n<path fill=\"none\" stroke=\"#000000\" d=\"M385.0643,-808.0915C381.6821,-799.4194 377.8662,-789.6356 374.2639,-780.3992\"/>\n<polygon fill=\"#000000\" stroke=\"#000000\" points=\"377.5087,-779.0864 370.6143,-771.0416 370.9872,-781.6299 377.5087,-779.0864\"/>\n</g>\n<!-- Node 4\n0.044 -->\n<g id=\"node4\" class=\"node\">\n<title>Node 4\n0.044</title>\n<ellipse fill=\"none\" stroke=\"#000000\" cx=\"430.3762\" cy=\"-655.0509\" rx=\"41.9398\" ry=\"26.7407\"/>\n<text text-anchor=\"middle\" x=\"430.3762\" y=\"-658.8509\" font-family=\"Times,serif\" font-size=\"14.00\" fill=\"#000000\">Node 4</text>\n<text text-anchor=\"middle\" x=\"430.3762\" y=\"-643.8509\" font-family=\"Times,serif\" font-size=\"14.00\" fill=\"#000000\">0.044</text>\n</g>\n<!-- Node 1\n0.122&#45;&gt;Node 4\n0.044 -->\n<g id=\"edge3\" class=\"edge\">\n<title>Node 1\n0.122&#45;&gt;Node 4\n0.044</title>\n<path fill=\"none\" stroke=\"#000000\" d=\"M402.668,-808.0368C405.6005,-796.8613 408.8727,-783.6796 411.3762,-771.661 416.8895,-745.192 421.7625,-715.0654 425.1929,-692.065\"/>\n<polygon fill=\"#000000\" stroke=\"#000000\" points=\"428.6753,-692.4397 426.6646,-682.0374 421.7495,-691.4232 428.6753,-692.4397\"/>\n</g>\n<!-- Node 5\n0.065 -->\n<g id=\"node5\" class=\"node\">\n<title>Node 5\n0.065</title>\n<ellipse fill=\"none\" stroke=\"#000000\" cx=\"290.3762\" cy=\"-655.0509\" rx=\"41.9398\" ry=\"26.7407\"/>\n<text text-anchor=\"middle\" x=\"290.3762\" y=\"-658.8509\" font-family=\"Times,serif\" font-size=\"14.00\" fill=\"#000000\">Node 5</text>\n<text text-anchor=\"middle\" x=\"290.3762\" y=\"-643.8509\" font-family=\"Times,serif\" font-size=\"14.00\" fill=\"#000000\">0.065</text>\n</g>\n<!-- Node 2\n0.044&#45;&gt;Node 5\n0.065 -->\n<g id=\"edge4\" class=\"edge\">\n<title>Node 2\n0.044&#45;&gt;Node 5\n0.065</title>\n<path fill=\"none\" stroke=\"#000000\" d=\"M268.5095,-718.3514C271.4737,-709.7705 274.8138,-700.1013 277.9748,-690.9509\"/>\n<polygon fill=\"#000000\" stroke=\"#000000\" points=\"281.3511,-691.8963 281.3081,-681.3015 274.7347,-689.6106 281.3511,-691.8963\"/>\n</g>\n<!-- Node 3\n0.044&#45;&gt;Node 5\n0.065 -->\n<g id=\"edge5\" class=\"edge\">\n<title>Node 3\n0.044&#45;&gt;Node 5\n0.065</title>\n<path fill=\"none\" stroke=\"#000000\" d=\"M341.6174,-720.7423C333.6141,-710.4819 324.1549,-698.3552 315.5561,-687.3316\"/>\n<polygon fill=\"#000000\" stroke=\"#000000\" points=\"318.0969,-684.8982 309.1867,-679.166 312.5774,-689.2036 318.0969,-684.8982\"/>\n</g>\n<!-- Node 6\n0.102 -->\n<g id=\"node6\" class=\"node\">\n<title>Node 6\n0.102</title>\n<ellipse fill=\"none\" stroke=\"#000000\" cx=\"360.3762\" cy=\"-565.3107\" rx=\"41.9398\" ry=\"26.7407\"/>\n<text text-anchor=\"middle\" x=\"360.3762\" y=\"-569.1107\" font-family=\"Times,serif\" font-size=\"14.00\" fill=\"#000000\">Node 6</text>\n<text text-anchor=\"middle\" x=\"360.3762\" y=\"-554.1107\" font-family=\"Times,serif\" font-size=\"14.00\" fill=\"#000000\">0.102</text>\n</g>\n<!-- Node 3\n0.044&#45;&gt;Node 6\n0.102 -->\n<g id=\"edge6\" class=\"edge\">\n<title>Node 3\n0.044&#45;&gt;Node 6\n0.102</title>\n<path fill=\"none\" stroke=\"#000000\" d=\"M360.3762,-717.5318C360.3762,-686.7824 360.3762,-636.6035 360.3762,-602.3265\"/>\n<polygon fill=\"#000000\" stroke=\"#000000\" points=\"363.8763,-602.2384 360.3762,-592.2384 356.8763,-602.2384 363.8763,-602.2384\"/>\n</g>\n<!-- Node 4\n0.044&#45;&gt;Node 6\n0.102 -->\n<g id=\"edge7\" class=\"edge\">\n<title>Node 4\n0.044&#45;&gt;Node 6\n0.102</title>\n<path fill=\"none\" stroke=\"#000000\" d=\"M411.6174,-631.0022C403.6141,-620.7418 394.1549,-608.6151 385.5561,-597.5915\"/>\n<polygon fill=\"#000000\" stroke=\"#000000\" points=\"388.0969,-595.1581 379.1867,-589.4258 382.5774,-599.4634 388.0969,-595.1581\"/>\n</g>\n<!-- Node 7\n0.071 -->\n<g id=\"node7\" class=\"node\">\n<title>Node 7\n0.071</title>\n<ellipse fill=\"none\" stroke=\"#000000\" cx=\"430.3762\" cy=\"-475.5706\" rx=\"41.9398\" ry=\"26.7407\"/>\n<text text-anchor=\"middle\" x=\"430.3762\" y=\"-479.3706\" font-family=\"Times,serif\" font-size=\"14.00\" fill=\"#000000\">Node 7</text>\n<text text-anchor=\"middle\" x=\"430.3762\" y=\"-464.3706\" font-family=\"Times,serif\" font-size=\"14.00\" fill=\"#000000\">0.071</text>\n</g>\n<!-- Node 4\n0.044&#45;&gt;Node 7\n0.071 -->\n<g id=\"edge8\" class=\"edge\">\n<title>Node 4\n0.044&#45;&gt;Node 7\n0.071</title>\n<path fill=\"none\" stroke=\"#000000\" d=\"M430.3762,-627.7917C430.3762,-597.0423 430.3762,-546.8634 430.3762,-512.5863\"/>\n<polygon fill=\"#000000\" stroke=\"#000000\" points=\"433.8763,-512.4982 430.3762,-502.4983 426.8763,-512.4983 433.8763,-512.4982\"/>\n</g>\n<!-- Node 5\n0.065&#45;&gt;Node 6\n0.102 -->\n<g id=\"edge9\" class=\"edge\">\n<title>Node 5\n0.065&#45;&gt;Node 6\n0.102</title>\n<path fill=\"none\" stroke=\"#000000\" d=\"M309.1349,-631.0022C317.1382,-620.7418 326.5974,-608.6151 335.1962,-597.5915\"/>\n<polygon fill=\"#000000\" stroke=\"#000000\" points=\"338.1749,-599.4634 341.5657,-589.4258 332.6554,-595.1581 338.1749,-599.4634\"/>\n</g>\n<!-- Node 6\n0.102&#45;&gt;Node 7\n0.071 -->\n<g id=\"edge10\" class=\"edge\">\n<title>Node 6\n0.102&#45;&gt;Node 7\n0.071</title>\n<path fill=\"none\" stroke=\"#000000\" d=\"M379.1349,-541.262C387.1382,-531.0017 396.5974,-518.875 405.1962,-507.8514\"/>\n<polygon fill=\"#000000\" stroke=\"#000000\" points=\"408.1749,-509.7233 411.5657,-499.6857 402.6554,-505.418 408.1749,-509.7233\"/>\n</g>\n<!-- Node 8\n0.053 -->\n<g id=\"node8\" class=\"node\">\n<title>Node 8\n0.053</title>\n<ellipse fill=\"none\" stroke=\"#000000\" cx=\"329.3762\" cy=\"-475.5706\" rx=\"41.9398\" ry=\"26.7407\"/>\n<text text-anchor=\"middle\" x=\"329.3762\" y=\"-479.3706\" font-family=\"Times,serif\" font-size=\"14.00\" fill=\"#000000\">Node 8</text>\n<text text-anchor=\"middle\" x=\"329.3762\" y=\"-464.3706\" font-family=\"Times,serif\" font-size=\"14.00\" fill=\"#000000\">0.053</text>\n</g>\n<!-- Node 6\n0.102&#45;&gt;Node 8\n0.053 -->\n<g id=\"edge11\" class=\"edge\">\n<title>Node 6\n0.102&#45;&gt;Node 8\n0.053</title>\n<path fill=\"none\" stroke=\"#000000\" d=\"M351.2428,-538.8711C348.2786,-530.2903 344.9385,-520.6211 341.7775,-511.4707\"/>\n<polygon fill=\"#000000\" stroke=\"#000000\" points=\"345.0176,-510.1304 338.4442,-501.8213 338.4012,-512.416 345.0176,-510.1304\"/>\n</g>\n<!-- Node 15\n0.145 -->\n<g id=\"node9\" class=\"node\">\n<title>Node 15\n0.145</title>\n<ellipse fill=\"none\" stroke=\"#000000\" cx=\"329.3762\" cy=\"-116.6102\" rx=\"47.2526\" ry=\"26.7407\"/>\n<text text-anchor=\"middle\" x=\"329.3762\" y=\"-120.4102\" font-family=\"Times,serif\" font-size=\"14.00\" fill=\"#000000\">Node 15</text>\n<text text-anchor=\"middle\" x=\"329.3762\" y=\"-105.4102\" font-family=\"Times,serif\" font-size=\"14.00\" fill=\"#000000\">0.145</text>\n</g>\n<!-- Node 7\n0.071&#45;&gt;Node 15\n0.145 -->\n<g id=\"edge12\" class=\"edge\">\n<title>Node 7\n0.071&#45;&gt;Node 15\n0.145</title>\n<path fill=\"none\" stroke=\"#000000\" d=\"M440.1587,-449.1579C458.6339,-394.4782 492.4443,-266.7107 441.3762,-179.4802 428.3149,-157.17 404.1127,-142.1728 381.5395,-132.4407\"/>\n<polygon fill=\"#000000\" stroke=\"#000000\" points=\"382.5851,-129.0883 372.0022,-128.5861 379.9621,-135.5783 382.5851,-129.0883\"/>\n</g>\n<!-- Node 9\n0.032 -->\n<g id=\"node10\" class=\"node\">\n<title>Node 9\n0.032</title>\n<ellipse fill=\"none\" stroke=\"#000000\" cx=\"337.3762\" cy=\"-385.8305\" rx=\"41.9398\" ry=\"26.7407\"/>\n<text text-anchor=\"middle\" x=\"337.3762\" y=\"-389.6305\" font-family=\"Times,serif\" font-size=\"14.00\" fill=\"#000000\">Node 9</text>\n<text text-anchor=\"middle\" x=\"337.3762\" y=\"-374.6305\" font-family=\"Times,serif\" font-size=\"14.00\" fill=\"#000000\">0.032</text>\n</g>\n<!-- Node 8\n0.053&#45;&gt;Node 9\n0.032 -->\n<g id=\"edge13\" class=\"edge\">\n<title>Node 8\n0.053&#45;&gt;Node 9\n0.032</title>\n<path fill=\"none\" stroke=\"#000000\" d=\"M331.7764,-448.6456C332.4963,-440.5707 333.2989,-431.5674 334.0665,-422.9565\"/>\n<polygon fill=\"#000000\" stroke=\"#000000\" points=\"337.5757,-423.0078 334.9776,-412.7365 330.6034,-422.3862 337.5757,-423.0078\"/>\n</g>\n<!-- Node 10\n0.059 -->\n<g id=\"node11\" class=\"node\">\n<title>Node 10\n0.059</title>\n<ellipse fill=\"none\" stroke=\"#000000\" cx=\"271.3762\" cy=\"-296.0904\" rx=\"47.2526\" ry=\"26.7407\"/>\n<text text-anchor=\"middle\" x=\"271.3762\" y=\"-299.8904\" font-family=\"Times,serif\" font-size=\"14.00\" fill=\"#000000\">Node 10</text>\n<text text-anchor=\"middle\" x=\"271.3762\" y=\"-284.8904\" font-family=\"Times,serif\" font-size=\"14.00\" fill=\"#000000\">0.059</text>\n</g>\n<!-- Node 8\n0.053&#45;&gt;Node 10\n0.059 -->\n<g id=\"edge14\" class=\"edge\">\n<title>Node 8\n0.053&#45;&gt;Node 10\n0.059</title>\n<path fill=\"none\" stroke=\"#000000\" d=\"M309.3155,-452.0024C300.8556,-440.7966 291.7417,-426.7884 286.3762,-412.7006 276.737,-387.392 273.0602,-356.9941 271.7546,-333.5806\"/>\n<polygon fill=\"#000000\" stroke=\"#000000\" points=\"275.2413,-333.1958 271.3087,-323.3578 268.2479,-333.5009 275.2413,-333.1958\"/>\n</g>\n<!-- Node 16\n0.132 -->\n<g id=\"node12\" class=\"node\">\n<title>Node 16\n0.132</title>\n<ellipse fill=\"none\" stroke=\"#000000\" cx=\"385.3762\" cy=\"-26.8701\" rx=\"47.2526\" ry=\"26.7407\"/>\n<text text-anchor=\"middle\" x=\"385.3762\" y=\"-30.6701\" font-family=\"Times,serif\" font-size=\"14.00\" fill=\"#000000\">Node 16</text>\n<text text-anchor=\"middle\" x=\"385.3762\" y=\"-15.6701\" font-family=\"Times,serif\" font-size=\"14.00\" fill=\"#000000\">0.132</text>\n</g>\n<!-- Node 15\n0.145&#45;&gt;Node 16\n0.132 -->\n<g id=\"edge15\" class=\"edge\">\n<title>Node 15\n0.145&#45;&gt;Node 16\n0.132</title>\n<path fill=\"none\" stroke=\"#000000\" d=\"M345.2737,-91.1343C351.126,-81.7559 357.8518,-70.9779 364.1023,-60.9615\"/>\n<polygon fill=\"#000000\" stroke=\"#000000\" points=\"367.1141,-62.7463 369.4388,-52.4096 361.1755,-59.0404 367.1141,-62.7463\"/>\n</g>\n<!-- Node 9\n0.032&#45;&gt;Node 10\n0.059 -->\n<g id=\"edge16\" class=\"edge\">\n<title>Node 9\n0.032&#45;&gt;Node 10\n0.059</title>\n<path fill=\"none\" stroke=\"#000000\" d=\"M319.3414,-361.3086C312.0533,-351.3991 303.5297,-339.8096 295.706,-329.1716\"/>\n<polygon fill=\"#000000\" stroke=\"#000000\" points=\"298.3628,-326.8767 289.6185,-320.8945 292.7237,-331.024 298.3628,-326.8767\"/>\n</g>\n<!-- Node 11\n0.022 -->\n<g id=\"node13\" class=\"node\">\n<title>Node 11\n0.022</title>\n<ellipse fill=\"none\" stroke=\"#000000\" cx=\"385.3762\" cy=\"-206.3503\" rx=\"46.8387\" ry=\"26.7407\"/>\n<text text-anchor=\"middle\" x=\"385.3762\" y=\"-210.1503\" font-family=\"Times,serif\" font-size=\"14.00\" fill=\"#000000\">Node 11</text>\n<text text-anchor=\"middle\" x=\"385.3762\" y=\"-195.1503\" font-family=\"Times,serif\" font-size=\"14.00\" fill=\"#000000\">0.022</text>\n</g>\n<!-- Node 10\n0.059&#45;&gt;Node 11\n0.022 -->\n<g id=\"edge17\" class=\"edge\">\n<title>Node 10\n0.059&#45;&gt;Node 11\n0.022</title>\n<path fill=\"none\" stroke=\"#000000\" d=\"M299.2637,-274.1375C314.4195,-262.207 333.3288,-247.3216 349.5642,-234.5412\"/>\n<polygon fill=\"#000000\" stroke=\"#000000\" points=\"352.0839,-237.0121 357.7765,-228.0766 347.7541,-231.5118 352.0839,-237.0121\"/>\n</g>\n<!-- Node 12\n0.022 -->\n<g id=\"node14\" class=\"node\">\n<title>Node 12\n0.022</title>\n<ellipse fill=\"none\" stroke=\"#000000\" cx=\"47.3762\" cy=\"-206.3503\" rx=\"47.2526\" ry=\"26.7407\"/>\n<text text-anchor=\"middle\" x=\"47.3762\" y=\"-210.1503\" font-family=\"Times,serif\" font-size=\"14.00\" fill=\"#000000\">Node 12</text>\n<text text-anchor=\"middle\" x=\"47.3762\" y=\"-195.1503\" font-family=\"Times,serif\" font-size=\"14.00\" fill=\"#000000\">0.022</text>\n</g>\n<!-- Node 10\n0.059&#45;&gt;Node 12\n0.022 -->\n<g id=\"edge18\" class=\"edge\">\n<title>Node 10\n0.059&#45;&gt;Node 12\n0.022</title>\n<path fill=\"none\" stroke=\"#000000\" d=\"M230.8623,-281.8716C196.8183,-269.6777 147.0295,-251.2681 104.3762,-233.2203 100.5223,-231.5897 96.5476,-229.8464 92.5742,-228.0607\"/>\n<polygon fill=\"#000000\" stroke=\"#000000\" points=\"93.9126,-224.8242 83.3627,-223.8496 91.0022,-231.1905 93.9126,-224.8242\"/>\n</g>\n<!-- Node 13\n0.022 -->\n<g id=\"node15\" class=\"node\">\n<title>Node 13\n0.022</title>\n<ellipse fill=\"none\" stroke=\"#000000\" cx=\"160.3762\" cy=\"-206.3503\" rx=\"47.2526\" ry=\"26.7407\"/>\n<text text-anchor=\"middle\" x=\"160.3762\" y=\"-210.1503\" font-family=\"Times,serif\" font-size=\"14.00\" fill=\"#000000\">Node 13</text>\n<text text-anchor=\"middle\" x=\"160.3762\" y=\"-195.1503\" font-family=\"Times,serif\" font-size=\"14.00\" fill=\"#000000\">0.022</text>\n</g>\n<!-- Node 10\n0.059&#45;&gt;Node 13\n0.022 -->\n<g id=\"edge19\" class=\"edge\">\n<title>Node 10\n0.059&#45;&gt;Node 13\n0.022</title>\n<path fill=\"none\" stroke=\"#000000\" d=\"M243.9379,-273.9074C229.3957,-262.1505 211.3653,-247.5735 195.7795,-234.9728\"/>\n<polygon fill=\"#000000\" stroke=\"#000000\" points=\"197.8604,-232.1544 187.8834,-228.5891 193.4594,-237.5979 197.8604,-232.1544\"/>\n</g>\n<!-- Node 14\n0.022 -->\n<g id=\"node16\" class=\"node\">\n<title>Node 14\n0.022</title>\n<ellipse fill=\"none\" stroke=\"#000000\" cx=\"273.3762\" cy=\"-206.3503\" rx=\"47.2526\" ry=\"26.7407\"/>\n<text text-anchor=\"middle\" x=\"273.3762\" y=\"-210.1503\" font-family=\"Times,serif\" font-size=\"14.00\" fill=\"#000000\">Node 14</text>\n<text text-anchor=\"middle\" x=\"273.3762\" y=\"-195.1503\" font-family=\"Times,serif\" font-size=\"14.00\" fill=\"#000000\">0.022</text>\n</g>\n<!-- Node 10\n0.059&#45;&gt;Node 14\n0.022 -->\n<g id=\"edge20\" class=\"edge\">\n<title>Node 10\n0.059&#45;&gt;Node 14\n0.022</title>\n<path fill=\"none\" stroke=\"#000000\" d=\"M271.9762,-269.1654C272.1562,-261.0905 272.3568,-252.0872 272.5487,-243.4763\"/>\n<polygon fill=\"#000000\" stroke=\"#000000\" points=\"276.0527,-243.3318 272.7765,-233.2563 269.0545,-243.1758 276.0527,-243.3318\"/>\n</g>\n<!-- Node 16\n0.132&#45;&gt;Node 1\n0.122 -->\n<g id=\"edge25\" class=\"edge\">\n<title>Node 16\n0.132&#45;&gt;Node 1\n0.122</title>\n<path fill=\"none\" stroke=\"#000000\" d=\"M412.0485,-49.4156C446.0207,-80.8098 500.3762,-141.2174 500.3762,-206.3503 500.3762,-655.0509 500.3762,-655.0509 500.3762,-655.0509 500.3762,-714.3731 457.1125,-771.4896 426.1271,-804.7893\"/>\n<polygon fill=\"#000000\" stroke=\"#000000\" points=\"423.3073,-802.6748 418.9402,-812.3277 428.3738,-807.505 423.3073,-802.6748\"/>\n</g>\n<!-- Node 11\n0.022&#45;&gt;Node 15\n0.145 -->\n<g id=\"edge21\" class=\"edge\">\n<title>Node 11\n0.022&#45;&gt;Node 15\n0.145</title>\n<path fill=\"none\" stroke=\"#000000\" d=\"M369.4786,-180.8744C363.6263,-171.4961 356.9005,-160.718 350.65,-150.7016\"/>\n<polygon fill=\"#000000\" stroke=\"#000000\" points=\"353.5768,-148.7805 345.3135,-142.1497 347.6382,-152.4864 353.5768,-148.7805\"/>\n</g>\n<!-- Node 12\n0.022&#45;&gt;Node 15\n0.145 -->\n<g id=\"edge22\" class=\"edge\">\n<title>Node 12\n0.022&#45;&gt;Node 15\n0.145</title>\n<path fill=\"none\" stroke=\"#000000\" d=\"M82.8617,-188.5011C89.9004,-185.281 97.302,-182.1147 104.3762,-179.4802 161.5641,-158.1833 229.2515,-140.2029 275.3421,-128.9972\"/>\n<polygon fill=\"#000000\" stroke=\"#000000\" points=\"276.2235,-132.3851 285.1263,-126.6414 274.5848,-125.5796 276.2235,-132.3851\"/>\n</g>\n<!-- Node 13\n0.022&#45;&gt;Node 15\n0.145 -->\n<g id=\"edge23\" class=\"edge\">\n<title>Node 13\n0.022&#45;&gt;Node 15\n0.145</title>\n<path fill=\"none\" stroke=\"#000000\" d=\"M194.9836,-187.9735C221.2122,-174.0459 257.4325,-154.8127 285.6628,-139.8222\"/>\n<polygon fill=\"#000000\" stroke=\"#000000\" points=\"287.3344,-142.8975 294.525,-135.1164 284.0514,-136.7151 287.3344,-142.8975\"/>\n</g>\n<!-- Node 14\n0.022&#45;&gt;Node 15\n0.145 -->\n<g id=\"edge24\" class=\"edge\">\n<title>Node 14\n0.022&#45;&gt;Node 15\n0.145</title>\n<path fill=\"none\" stroke=\"#000000\" d=\"M289.2737,-180.8744C295.126,-171.4961 301.8518,-160.718 308.1023,-150.7016\"/>\n<polygon fill=\"#000000\" stroke=\"#000000\" points=\"311.1141,-152.4864 313.4388,-142.1497 305.1755,-148.7805 311.1141,-152.4864\"/>\n</g>\n</g>\n</svg>\n"
          },
          "metadata": {
            "tags": []
          },
          "execution_count": 19
        }
      ]
    },
    {
      "cell_type": "markdown",
      "metadata": {
        "id": "zCtCQcfc6pcn"
      },
      "source": [
        "## モジュラリティの確認"
      ]
    },
    {
      "cell_type": "markdown",
      "metadata": {
        "id": "_im1F1I86yUX"
      },
      "source": [
        "## データセットの用意"
      ]
    },
    {
      "cell_type": "code",
      "metadata": {
        "colab": {
          "base_uri": "https://localhost:8080/"
        },
        "id": "W0akxdc3xobG",
        "outputId": "f613db8a-46b5-4466-f034-6e8d77b3d892"
      },
      "source": [
        "!curl -O https://raw.githubusercontent.com/naltoma/datamining_intro/master/4-casestudy/graph/graph_modularity_simple.txt\n",
        "!head graph_modularity_simple.txt"
      ],
      "execution_count": 20,
      "outputs": [
        {
          "output_type": "stream",
          "text": [
            "  % Total    % Received % Xferd  Average Speed   Time    Time     Time  Current\n",
            "                                 Dload  Upload   Total   Spent    Left  Speed\n",
            "\r  0     0    0     0    0     0      0      0 --:--:-- --:--:-- --:--:--     0\r100    84  100    84    0     0    518      0 --:--:-- --:--:-- --:--:--   521\n",
            "1 2\n",
            "1 3\n",
            "1 4\n",
            "1 5\n",
            "2 3\n",
            "2 4\n",
            "2 5\n",
            "3 4\n",
            "3 5\n",
            "4 5\n"
          ],
          "name": "stdout"
        }
      ]
    },
    {
      "cell_type": "markdown",
      "metadata": {
        "id": "nDIyw3k660Mj"
      },
      "source": [
        "### girvan_newman方式のモジュラリティ評価"
      ]
    },
    {
      "cell_type": "code",
      "metadata": {
        "colab": {
          "base_uri": "https://localhost:8080/",
          "height": 265
        },
        "id": "8ITiRXmtkgfp",
        "outputId": "c3f6ad26-e3a1-412e-fbb6-e7de716dafa9"
      },
      "source": [
        "%matplotlib inline\n",
        "from networkx.algorithms.community.centrality import girvan_newman\n",
        "\n",
        "filename = \"graph_modularity_simple.txt\"\n",
        "G = nx.read_edgelist(filename)\n",
        "\n",
        "comp = girvan_newman(G)\n",
        "print(tuple(sorted(c) for c in next(comp)))\n",
        "\n",
        "#nx.nx_agraph.view_pygraphviz(G, prog='sfdp')\n",
        "nx.draw_networkx(G)"
      ],
      "execution_count": 21,
      "outputs": [
        {
          "output_type": "stream",
          "text": [
            "(['1', '2', '3', '4', '5'], ['A', 'B', 'C', 'D', 'E'])\n"
          ],
          "name": "stdout"
        },
        {
          "output_type": "display_data",
          "data": {
            "image/png": "[encoded data removed]",
            "text/plain": [
              "<Figure size 432x288 with 1 Axes>"
            ]
          },
          "metadata": {
            "tags": []
          }
        }
      ]
    },
    {
      "cell_type": "code",
      "metadata": {
        "colab": {
          "base_uri": "https://localhost:8080/"
        },
        "id": "LMENb-EMkHCW",
        "outputId": "1972ea77-ade2-4023-ca06-fa346cc8ad66"
      },
      "source": [
        "from networkx import community\n",
        "\n",
        "clusters = []\n",
        "clusters.append([{'1', '2', '3', '4', '5'}, {'A', 'B', 'C', 'D', 'E'}])\n",
        "clusters.append([{'2', '3', '4', '5'}, {'1', 'A', 'B', 'C', 'D', 'E'}])\n",
        "clusters.append([{'3', '4', '5'}, {'2', '1', 'A', 'B', 'C', 'D', 'E'}])\n",
        "clusters.append([{'4', '5'}, {'2', '3', '1', 'A', 'B', 'C', 'D', 'E'}])\n",
        "clusters.append([{'5'}, {'2', '3', '4', '1', 'A', 'B', 'C', 'D', 'E'}])\n",
        "\n",
        "for i, cluster in enumerate(clusters):\n",
        "    modularity = community.modularity(G, cluster)\n",
        "    print('modularity(cluster{}) = {}'.format(i, modularity))"
      ],
      "execution_count": 22,
      "outputs": [
        {
          "output_type": "stream",
          "text": [
            "modularity(cluster0) = 0.45238095238095233\n",
            "modularity(cluster1) = 0.2811791383219955\n",
            "modularity(cluster2) = 0.12244897959183668\n",
            "modularity(cluster3) = 0.02267573696145122\n",
            "modularity(cluster4) = -0.018140589569161043\n"
          ],
          "name": "stdout"
        }
      ]
    }
  ]
}